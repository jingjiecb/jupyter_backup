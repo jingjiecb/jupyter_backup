{
 "cells": [
  {
   "cell_type": "code",
   "execution_count": 13,
   "id": "8bbcbebc",
   "metadata": {},
   "outputs": [
    {
     "name": "stdout",
     "output_type": "stream",
     "text": [
      "190.47619047619048\n",
      "My every day's wage is 190.47619047619048\n"
     ]
    }
   ],
   "source": [
    "number=30\n",
    "wage=4000\n",
    "\n",
    "print(every)\n",
    "number-=9\n",
    "every=wage/number\n",
    "print('My every day\\'s wage is', every)"
   ]
  },
  {
   "cell_type": "code",
   "execution_count": 14,
   "id": "37f58906",
   "metadata": {},
   "outputs": [
    {
     "name": "stdout",
     "output_type": "stream",
     "text": [
      "aaa111\n",
      "111\n"
     ]
    }
   ],
   "source": [
    "guess=input('aaa')\n",
    "print(guess)"
   ]
  },
  {
   "cell_type": "code",
   "execution_count": 15,
   "id": "f16b79bd",
   "metadata": {
    "scrolled": true
   },
   "outputs": [
    {
     "name": "stdout",
     "output_type": "stream",
     "text": [
      "aaa222\n",
      "222\n"
     ]
    }
   ],
   "source": [
    "guess=input('aaa')\n",
    "print(guess)"
   ]
  },
  {
   "cell_type": "code",
   "execution_count": null,
   "id": "8dae4ae4",
   "metadata": {},
   "outputs": [],
   "source": [
    "def bidaxiao(a,b):\n",
    "    if len(a)>len(b):\n",
    "        print(a, \"is longer\")\n",
    "    elif len(a)<len(b):\n",
    "        print(b,\"is longer\")\n",
    "    else:\n",
    "        print('same!')\n",
    "while True:\n",
    "    a=input('say something:')\n",
    "    b=input('also:')\n",
    "    bidaxiao(a,b)\n",
    "    if a==\"lzl 是大笨蛋\":\n",
    "        break\n",
    "    if b==\"mfr\"\n",
    "        print(\"think more\")\n",
    "        continue\n",
    "print(\"done\")"
   ]
  },
  {
   "cell_type": "code",
   "execution_count": null,
   "id": "f61ad058",
   "metadata": {},
   "outputs": [],
   "source": [
    "x=21\n",
    "def try(x):\n",
    "    print(\"x is\",x)\n",
    "    x=2\n",
    "    print(\"change x to\",x)\n",
    "try(x)\n",
    "print(x)"
   ]
  },
  {
   "cell_type": "code",
   "execution_count": null,
   "id": "28233a1b",
   "metadata": {},
   "outputs": [],
   "source": []
  }
 ],
 "metadata": {
  "kernelspec": {
   "display_name": "Python 3 (ipykernel)",
   "language": "python",
   "name": "python3"
  },
  "language_info": {
   "codemirror_mode": {
    "name": "ipython",
    "version": 3
   },
   "file_extension": ".py",
   "mimetype": "text/x-python",
   "name": "python",
   "nbconvert_exporter": "python",
   "pygments_lexer": "ipython3",
   "version": "3.9.7"
  }
 },
 "nbformat": 4,
 "nbformat_minor": 5
}
