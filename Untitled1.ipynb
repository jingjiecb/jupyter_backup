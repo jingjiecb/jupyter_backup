{
 "cells": [
  {
   "cell_type": "code",
   "execution_count": 1,
   "id": "62720b49",
   "metadata": {},
   "outputs": [
    {
     "data": {
      "text/plain": [
       "['a.jpg',\n",
       " 'cy.html',\n",
       " 'haha.ipynb',\n",
       " 'leetcode',\n",
       " 'test.ipynb',\n",
       " 'Untitled1.ipynb',\n",
       " 'Untitled.ipynb']"
      ]
     },
     "execution_count": 1,
     "metadata": {},
     "output_type": "execute_result"
    }
   ],
   "source": [
    "system(\"ls\")"
   ]
  },
  {
   "cell_type": "code",
   "execution_count": 2,
   "id": "cd070661",
   "metadata": {},
   "outputs": [
    {
     "data": {
      "text/plain": [
       "['usage: sudo -h | -K | -k | -V',\n",
       " 'usage: sudo -v [-AknS] [-g group] [-h host] [-p prompt] [-u user]',\n",
       " 'usage: sudo -l [-AknS] [-g group] [-h host] [-p prompt] [-U user] [-u user]',\n",
       " '            [command]',\n",
       " 'usage: sudo [-AbEHknPS] [-r role] [-t type] [-C num] [-g group] [-h host] [-p',\n",
       " '            prompt] [-T timeout] [-u user] [VAR=value] [-i|-s] [<command>]',\n",
       " 'usage: sudo -e [-AknS] [-r role] [-t type] [-C num] [-g group] [-h host] [-p',\n",
       " '            prompt] [-T timeout] [-u user] file ...']"
      ]
     },
     "execution_count": 2,
     "metadata": {},
     "output_type": "execute_result"
    }
   ],
   "source": [
    "system(\"sudo\")"
   ]
  },
  {
   "cell_type": "code",
   "execution_count": 5,
   "id": "c9ef6b70",
   "metadata": {},
   "outputs": [
    {
     "data": {
      "text/plain": [
       "['/bin/bash: sudo echo shit: command not found']"
      ]
     },
     "execution_count": 5,
     "metadata": {},
     "output_type": "execute_result"
    }
   ],
   "source": [
    "system(\"sudo echo shit\")"
   ]
  },
  {
   "cell_type": "code",
   "execution_count": 7,
   "id": "8c89dc95",
   "metadata": {},
   "outputs": [
    {
     "data": {
      "text/plain": [
       "['/bin/bash: sudo vim: command not found']"
      ]
     },
     "execution_count": 7,
     "metadata": {},
     "output_type": "execute_result"
    }
   ],
   "source": [
    "system(\"sudo vim\")"
   ]
  },
  {
   "cell_type": "code",
   "execution_count": 8,
   "id": "bc0f1983",
   "metadata": {},
   "outputs": [
    {
     "data": {
      "text/plain": [
       "['/bin/bash: sudo apt update: command not found']"
      ]
     },
     "execution_count": 8,
     "metadata": {},
     "output_type": "execute_result"
    }
   ],
   "source": [
    "system(\"sudo apt update\")"
   ]
  },
  {
   "cell_type": "code",
   "execution_count": 9,
   "id": "50843e25",
   "metadata": {},
   "outputs": [
    {
     "data": {
      "text/plain": [
       "['/bin/bash: apt update: command not found']"
      ]
     },
     "execution_count": 9,
     "metadata": {},
     "output_type": "execute_result"
    }
   ],
   "source": [
    "system(\"apt update\")"
   ]
  },
  {
   "cell_type": "code",
   "execution_count": null,
   "id": "6c0c9e71",
   "metadata": {},
   "outputs": [],
   "source": []
  }
 ],
 "metadata": {
  "kernelspec": {
   "display_name": "Python 3 (ipykernel)",
   "language": "python",
   "name": "python3"
  },
  "language_info": {
   "codemirror_mode": {
    "name": "ipython",
    "version": 3
   },
   "file_extension": ".py",
   "mimetype": "text/x-python",
   "name": "python",
   "nbconvert_exporter": "python",
   "pygments_lexer": "ipython3",
   "version": "3.9.7"
  }
 },
 "nbformat": 4,
 "nbformat_minor": 5
}
