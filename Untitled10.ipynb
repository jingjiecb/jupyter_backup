{
 "cells": [
  {
   "cell_type": "code",
   "execution_count": null,
   "id": "20d11e43",
   "metadata": {},
   "outputs": [],
   "source": [
    "while True:\n",
    "    s=input('write anything here:')\n",
    "    if s==\"stop here\":\n",
    "        break\n",
    "    if len(s)>4:\n",
    "        print(\"it is too long\")\n",
    "    print(s)"
   ]
  },
  {
   "cell_type": "code",
   "execution_count": null,
   "id": "735ea634",
   "metadata": {},
   "outputs": [],
   "source": [
    "while True:\n",
    "    s=input('write anything here:')\n",
    "    if s==\"stop here\":\n",
    "        break\n",
    "    if len(s)>4:\n",
    "        print(\"it is too long\")"
   ]
  },
  {
   "cell_type": "code",
   "execution_count": null,
   "id": "5b596731",
   "metadata": {},
   "outputs": [],
   "source": [
    "while True:\n",
    "    s=input('write anything here:')\n",
    "    if s==\"stop here\":\n",
    "        break\n",
    "    if len(s)>4:\n",
    "        print(\"it is too long\")"
   ]
  },
  {
   "cell_type": "code",
   "execution_count": 10,
   "id": "368bbee3",
   "metadata": {},
   "outputs": [
    {
     "name": "stdout",
     "output_type": "stream",
     "text": [
      "1*1=1\t\n",
      "2*1=2\t2*2=4\t\n",
      "3*1=3\t3*2=6\t3*3=9\t\n",
      "4*1=4\t4*2=8\t4*3=12\t4*4=16\t\n",
      "5*1=5\t5*2=10\t5*3=15\t5*4=20\t5*5=25\t\n",
      "6*1=6\t6*2=12\t6*3=18\t6*4=24\t6*5=30\t6*6=36\t\n",
      "7*1=7\t7*2=14\t7*3=21\t7*4=28\t7*5=35\t7*6=42\t7*7=49\t\n",
      "8*1=8\t8*2=16\t8*3=24\t8*4=32\t8*5=40\t8*6=48\t8*7=56\t8*8=64\t\n",
      "9*1=9\t9*2=18\t9*3=27\t9*4=36\t9*5=45\t9*6=54\t9*7=63\t9*8=72\t9*9=81\t\n"
     ]
    }
   ],
   "source": [
    "h=1\n",
    "while h<=9:\n",
    "    s=1\n",
    "    while s<=h:\n",
    "        print(str(h)+\"*\"+str(s)+\"=\"+str(h*s),end=\"\\t\")\n",
    "        s+=1\n",
    "    print()\n",
    "    h+=1\n",
    "        "
   ]
  },
  {
   "cell_type": "code",
   "execution_count": 15,
   "id": "e253268f",
   "metadata": {},
   "outputs": [
    {
     "name": "stdout",
     "output_type": "stream",
     "text": [
      "I have 4 items to purchase.\n",
      "These items are: apple mango carrot banana \n",
      "I also have to buy rice.\n",
      "My shopping list is now ['apple', 'mango', 'carrot', 'banana', 'rice']\n",
      "I will sort my list now\n",
      "Sorted shopping list is ['apple', 'banana', 'carrot', 'mango', 'rice']\n",
      "The first item I will buy is apple\n",
      "I bought the apple\n",
      "My shopping list is now ['banana', 'carrot', 'mango', 'rice']\n"
     ]
    }
   ],
   "source": [
    "shoplist = ['apple', 'mango', 'carrot', 'banana']\n",
    "print('I have', len(shoplist), 'items to purchase.')\n",
    "print('These items are:', end=' ')\n",
    "for item in shoplist:\n",
    "    print(item, end=' ')\n",
    "print(\"\\nI also have to buy rice.\")\n",
    "shoplist.append('rice')\n",
    "print('My shopping list is now', shoplist)\n",
    "print('I will sort my list now')\n",
    "shoplist.sort()\n",
    "print('Sorted shopping list is', shoplist)\n",
    "print('The first item I will buy is', shoplist[0])\n",
    "olditem = shoplist[0]\n",
    "del shoplist[0]\n",
    "print('I bought the', olditem)\n",
    "print('My shopping list is now', shoplist)"
   ]
  },
  {
   "cell_type": "code",
   "execution_count": 37,
   "id": "6a79fd56",
   "metadata": {},
   "outputs": [
    {
     "name": "stdout",
     "output_type": "stream",
     "text": [
      "Chinese PE art japanese math \n",
      "['Chinese', 'PE', 'art', 'japanese', 'math']\n",
      "japanese\n",
      "['Chinese', 'art', 'japanese', 'math']\n"
     ]
    }
   ],
   "source": [
    "schoolcourses=['art','PE','math','japanese']\n",
    "schoolcourses.append('Chinese')\n",
    "schoolcourses.sort()\n",
    "for item in schoolcourses:\n",
    "    print(item,end=\" \")\n",
    "print()\n",
    "print(schoolcourses)\n",
    "print(schoolcourses[-2])\n",
    "del schoolcourses[1]\n",
    "print(schoolcourses)"
   ]
  },
  {
   "cell_type": "code",
   "execution_count": 48,
   "id": "b002b45e",
   "metadata": {},
   "outputs": [
    {
     "name": "stdout",
     "output_type": "stream",
     "text": [
      "['PE', 'math']\n"
     ]
    }
   ],
   "source": [
    "schoolcourses=['art','PE','math','japanese']\n",
    "print(schoolcourses[1:3])"
   ]
  },
  {
   "cell_type": "code",
   "execution_count": 47,
   "id": "3e52ebd3",
   "metadata": {},
   "outputs": [
    {
     "name": "stdout",
     "output_type": "stream",
     "text": [
      "['mango', 'carrot']\n"
     ]
    }
   ],
   "source": [
    "shoplist = ['apple', 'mango', 'carrot', 'banana']\n",
    "\n",
    "print(shoplist[1:3])\n",
    "\n"
   ]
  },
  {
   "cell_type": "code",
   "execution_count": null,
   "id": "21ea6a96",
   "metadata": {},
   "outputs": [],
   "source": []
  }
 ],
 "metadata": {
  "kernelspec": {
   "display_name": "Python 3 (ipykernel)",
   "language": "python",
   "name": "python3"
  },
  "language_info": {
   "codemirror_mode": {
    "name": "ipython",
    "version": 3
   },
   "file_extension": ".py",
   "mimetype": "text/x-python",
   "name": "python",
   "nbconvert_exporter": "python",
   "pygments_lexer": "ipython3",
   "version": "3.9.7"
  }
 },
 "nbformat": 4,
 "nbformat_minor": 5
}
