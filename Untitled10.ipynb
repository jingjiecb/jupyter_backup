{
 "cells": [
  {
   "cell_type": "code",
   "execution_count": null,
   "id": "20d11e43",
   "metadata": {},
   "outputs": [],
   "source": [
    "while True:\n",
    "    s=input('write anything here:')\n",
    "    if s==\"stop here\":\n",
    "        break\n",
    "    if len(s)>4:\n",
    "        print(\"it is too long\")\n",
    "    print(s)"
   ]
  },
  {
   "cell_type": "code",
   "execution_count": null,
   "id": "735ea634",
   "metadata": {},
   "outputs": [],
   "source": [
    "while True:\n",
    "    s=input('write anything here:')\n",
    "    if s==\"stop here\":\n",
    "        break\n",
    "    if len(s)>4:\n",
    "        print(\"it is too long\")"
   ]
  },
  {
   "cell_type": "code",
   "execution_count": null,
   "id": "5b596731",
   "metadata": {},
   "outputs": [],
   "source": [
    "while True:\n",
    "    s=input('write anything here:')\n",
    "    if s==\"stop here\":\n",
    "        break\n",
    "    if len(s)>4:\n",
    "        print(\"it is too long\")"
   ]
  },
  {
   "cell_type": "code",
   "execution_count": null,
   "id": "368bbee3",
   "metadata": {},
   "outputs": [],
   "source": []
  }
 ],
 "metadata": {
  "kernelspec": {
   "display_name": "Python 3 (ipykernel)",
   "language": "python",
   "name": "python3"
  },
  "language_info": {
   "codemirror_mode": {
    "name": "ipython",
    "version": 3
   },
   "file_extension": ".py",
   "mimetype": "text/x-python",
   "name": "python",
   "nbconvert_exporter": "python",
   "pygments_lexer": "ipython3",
   "version": "3.9.7"
  }
 },
 "nbformat": 4,
 "nbformat_minor": 5
}
