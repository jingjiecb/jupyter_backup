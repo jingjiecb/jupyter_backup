{
 "cells": [
  {
   "cell_type": "code",
   "execution_count": 1,
   "id": "2f84f047",
   "metadata": {},
   "outputs": [
    {
     "name": "stdout",
     "output_type": "stream",
     "text": [
      "Enter something : 22\n",
      "Too small\n",
      "Enter something : 23\n",
      "Too small\n",
      "Enter something : 2345\n",
      "Input is of sufficient length\n",
      "Enter something : quit\n"
     ]
    }
   ],
   "source": [
    "while True:\n",
    "    s = input(\"Enter something : \")\n",
    "    if s == 'quit':\n",
    "        break\n",
    "    if len(s) < 3:\n",
    "        print('Too small')\n",
    "        continue\n",
    "    print('Input is of sufficient length')"
   ]
  },
  {
   "cell_type": "code",
   "execution_count": null,
   "id": "79f34591",
   "metadata": {},
   "outputs": [
    {
     "name": "stdout",
     "output_type": "stream",
     "text": [
      "Enter something : 22\n",
      "Too small\n",
      "Input is of sufficient length\n"
     ]
    }
   ],
   "source": [
    "while True:\n",
    "    s = input(\"Enter something : \")\n",
    "    if s == 'quit':\n",
    "        break\n",
    "    if len(s) < 3:\n",
    "        print('Too small')\n",
    "    print('Input is of sufficient length')"
   ]
  },
  {
   "cell_type": "code",
   "execution_count": null,
   "id": "854b6697",
   "metadata": {},
   "outputs": [],
   "source": [
    "while True:\n",
    "    s = input(\"Enter something : \")\n",
    "    if s == 'quit':\n",
    "        break\n",
    "    if len(s) < 4:\n",
    "        print('Too small')\n",
    "    elif len(s)>4:\n",
    "        print('Input is of sufficient length')\n",
    "    else len(s)=4:\n",
    "        print('you are close to the answer')\n",
    "    print(\"ok\")"
   ]
  },
  {
   "cell_type": "code",
   "execution_count": null,
   "id": "618ed32f",
   "metadata": {},
   "outputs": [],
   "source": [
    "while True:\n",
    "    s = input(\"Enter something : \")\n",
    "    if s == 'quit':\n",
    "        break\n",
    "    if len(s) < 4:\n",
    "        print('Too small')\n",
    "    elif len(s)>4:\n",
    "        print('Input is of sufficient length')\n",
    "    else len(s)=4:\n",
    "        print('you are close to the answer')\n",
    "    print(\"ok\")"
   ]
  },
  {
   "cell_type": "code",
   "execution_count": null,
   "id": "960bc17f",
   "metadata": {},
   "outputs": [],
   "source": []
  }
 ],
 "metadata": {
  "kernelspec": {
   "display_name": "Python 3 (ipykernel)",
   "language": "python",
   "name": "python3"
  },
  "language_info": {
   "codemirror_mode": {
    "name": "ipython",
    "version": 3
   },
   "file_extension": ".py",
   "mimetype": "text/x-python",
   "name": "python",
   "nbconvert_exporter": "python",
   "pygments_lexer": "ipython3",
   "version": "3.9.7"
  }
 },
 "nbformat": 4,
 "nbformat_minor": 5
}
