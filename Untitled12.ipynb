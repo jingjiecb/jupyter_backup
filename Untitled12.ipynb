{
 "cells": [
  {
   "cell_type": "code",
   "execution_count": null,
   "id": "14838704",
   "metadata": {},
   "outputs": [
    {
     "name": "stdout",
     "output_type": "stream",
     "text": [
      "Enter something : 66666\n",
      "Input is of sufficient length\n",
      "ok\n"
     ]
    }
   ],
   "source": [
    "while True:\n",
    "    s = input(\"Enter something : \")\n",
    "    if s == 'quit':\n",
    "        break\n",
    "    if len(s) < 4:\n",
    "        print('Too small')\n",
    "    elif len(s)>4:\n",
    "        print('Input is of sufficient length')\n",
    "    else:\n",
    "        print('you are close to the answer')\n",
    "    print(\"ok\")"
   ]
  },
  {
   "cell_type": "code",
   "execution_count": null,
   "id": "c67b5386",
   "metadata": {},
   "outputs": [],
   "source": [
    "while True:\n",
    "    s = input(\"Enter something : \")\n",
    "    if s == 'quit':\n",
    "        break\n",
    "    if len(s) < 4:\n",
    "        print('Too small')\n",
    "    elif len(s)>4:\n",
    "        print('Input is of sufficient length')\n",
    "    else:\n",
    "        print('you are close to the answer')\n",
    "        continue\n",
    "    print(\"ok\")"
   ]
  },
  {
   "cell_type": "code",
   "execution_count": null,
   "id": "49632a94",
   "metadata": {},
   "outputs": [],
   "source": []
  }
 ],
 "metadata": {
  "kernelspec": {
   "display_name": "Python 3 (ipykernel)",
   "language": "python",
   "name": "python3"
  },
  "language_info": {
   "codemirror_mode": {
    "name": "ipython",
    "version": 3
   },
   "file_extension": ".py",
   "mimetype": "text/x-python",
   "name": "python",
   "nbconvert_exporter": "python",
   "pygments_lexer": "ipython3",
   "version": "3.9.7"
  }
 },
 "nbformat": 4,
 "nbformat_minor": 5
}
