{
 "cells": [
  {
   "cell_type": "code",
   "execution_count": 1,
   "id": "4895f31c",
   "metadata": {},
   "outputs": [
    {
     "name": "stdout",
     "output_type": "stream",
     "text": [
      "hello world\n"
     ]
    }
   ],
   "source": [
    "print('hello world')"
   ]
  },
  {
   "cell_type": "code",
   "execution_count": 2,
   "id": "401a30c8",
   "metadata": {},
   "outputs": [
    {
     "name": "stdout",
     "output_type": "stream",
     "text": [
      "刘子龙是大笨蛋\n"
     ]
    }
   ],
   "source": [
    "print('刘子龙是大笨蛋')"
   ]
  },
  {
   "cell_type": "code",
   "execution_count": 3,
   "id": "f5cef869",
   "metadata": {},
   "outputs": [
    {
     "name": "stdout",
     "output_type": "stream",
     "text": [
      "刘子龙是大笨蛋\n"
     ]
    }
   ],
   "source": [
    "def saysomething():\n",
    "    print('刘子龙是大笨蛋')\n",
    "saysomething()   "
   ]
  },
  {
   "cell_type": "code",
   "execution_count": 4,
   "id": "54f5e35e",
   "metadata": {},
   "outputs": [
    {
     "name": "stdout",
     "output_type": "stream",
     "text": [
      "刘子龙是大笨蛋\n"
     ]
    }
   ],
   "source": [
    "saysomething()"
   ]
  },
  {
   "cell_type": "code",
   "execution_count": null,
   "id": "fca3fcad",
   "metadata": {},
   "outputs": [],
   "source": [
    "while True:\n",
    "    s = input(\"Enter something : \")\n",
    "    if s == 'quit':\n",
    "        break\n",
    "    if len(s) < 4:\n",
    "        print('Too small')\n",
    "        continue\n",
    "    elif len(s)>4:\n",
    "        print('Input is of sufficient length')\n",
    "        continue\n",
    "    else:\n",
    "        print('you are close to the answer')\n",
    "        continue\n",
    "    print(\"ok\")"
   ]
  },
  {
   "cell_type": "code",
   "execution_count": null,
   "id": "c1583e82",
   "metadata": {},
   "outputs": [],
   "source": []
  }
 ],
 "metadata": {
  "kernelspec": {
   "display_name": "Python 3 (ipykernel)",
   "language": "python",
   "name": "python3"
  },
  "language_info": {
   "codemirror_mode": {
    "name": "ipython",
    "version": 3
   },
   "file_extension": ".py",
   "mimetype": "text/x-python",
   "name": "python",
   "nbconvert_exporter": "python",
   "pygments_lexer": "ipython3",
   "version": "3.9.7"
  }
 },
 "nbformat": 4,
 "nbformat_minor": 5
}
