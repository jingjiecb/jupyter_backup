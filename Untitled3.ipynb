{
 "cells": [
  {
   "cell_type": "code",
   "execution_count": 2,
   "id": "6e7442ef",
   "metadata": {},
   "outputs": [
    {
     "name": "stdout",
     "output_type": "stream",
     "text": [
      "say something:abbb\n",
      "also:ab\n",
      "abbb is longer\n",
      "done\n",
      "say something:lzl\n",
      "also:mfr\n",
      "same!\n",
      "think more\n",
      "say something:lzl是大笨蛋\n",
      "also:mfr\n",
      "lzl是大笨蛋 is longer\n",
      "think more\n",
      "say something:lzl 是大笨蛋\n",
      "also:ab\n",
      "lzl 是大笨蛋 is longer\n"
     ]
    }
   ],
   "source": [
    "def bidaxiao(a,b):\n",
    "    if len(a)>len(b):\n",
    "        print(a, \"is longer\")\n",
    "    elif len(a)<len(b):\n",
    "        print(b,\"is longer\")\n",
    "    else:\n",
    "        print('same!')\n",
    "while True:\n",
    "    a=input('say something:')\n",
    "    b=input('also:')\n",
    "    bidaxiao(a,b)\n",
    "    if a==\"lzl 是大笨蛋\":\n",
    "        break\n",
    "    if b==\"mfr\":\n",
    "        print(\"think more\")\n",
    "        continue\n",
    "    print('done')"
   ]
  },
  {
   "cell_type": "code",
   "execution_count": 7,
   "id": "1f2ed058",
   "metadata": {},
   "outputs": [
    {
     "name": "stdout",
     "output_type": "stream",
     "text": [
      "say something:hahaha\n",
      "also:haha\n",
      "hahaha is longer\n",
      "say something:mfr\n",
      "also:lzl\n",
      "same!\n",
      "say something:lzl是大笨蛋\n",
      "你再想想！\n",
      "say something:mfr大傻瓜\n",
      "I know.\n",
      "Have a nice day!\n",
      "done\n"
     ]
    }
   ],
   "source": [
    "def bidaxiao(a,b):\n",
    "    len_a, len_b = len(a), len(b)\n",
    "    if len_a > len_b:\n",
    "        print(a, \"is longer\")\n",
    "    elif len_b < len_b:\n",
    "        print(b,\"is longer\")\n",
    "    else:\n",
    "        print('same!')\n",
    "while True:\n",
    "    a=input('say something:')\n",
    "    if a==\"lzl是大笨蛋\":\n",
    "        print(\"你再想想！\")\n",
    "        continue\n",
    "        \n",
    "    if a==\"mfr大傻瓜\":\n",
    "        print(\"I know.\\nHave a nice day!\")\n",
    "        break\n",
    "    \n",
    "    b=input('also:')\n",
    "    bidaxiao(a,b)\n",
    "print('done')"
   ]
  },
  {
   "cell_type": "code",
   "execution_count": null,
   "id": "58019bfe",
   "metadata": {},
   "outputs": [],
   "source": []
  }
 ],
 "metadata": {
  "kernelspec": {
   "display_name": "Python 3 (ipykernel)",
   "language": "python",
   "name": "python3"
  },
  "language_info": {
   "codemirror_mode": {
    "name": "ipython",
    "version": 3
   },
   "file_extension": ".py",
   "mimetype": "text/x-python",
   "name": "python",
   "nbconvert_exporter": "python",
   "pygments_lexer": "ipython3",
   "version": "3.9.7"
  }
 },
 "nbformat": 4,
 "nbformat_minor": 5
}
