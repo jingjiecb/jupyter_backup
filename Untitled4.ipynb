{
 "cells": [
  {
   "cell_type": "code",
   "execution_count": 1,
   "id": "a9d5219c",
   "metadata": {},
   "outputs": [
    {
     "data": {
      "text/plain": [
       "'i love python\\n\"what might be my Mr.right?\"i asked\\n'"
      ]
     },
     "execution_count": 1,
     "metadata": {},
     "output_type": "execute_result"
    }
   ],
   "source": [
    "'''i love python\n",
    "\"what might be my Mr.right?\"i asked\n",
    "'''"
   ]
  },
  {
   "cell_type": "code",
   "execution_count": 2,
   "id": "5a781e94",
   "metadata": {},
   "outputs": [
    {
     "data": {
      "text/plain": [
       "'i love python\\n\"what might be my Mr.right?\"i asked'"
      ]
     },
     "execution_count": 2,
     "metadata": {},
     "output_type": "execute_result"
    }
   ],
   "source": [
    "'''i love python\n",
    "\"what might be my Mr.right?\"i asked'''"
   ]
  },
  {
   "cell_type": "code",
   "execution_count": 3,
   "id": "93fc732e",
   "metadata": {},
   "outputs": [
    {
     "data": {
      "text/plain": [
       "'i love python\\n\"what might be my Mr.right?\"i asked'"
      ]
     },
     "execution_count": 3,
     "metadata": {},
     "output_type": "execute_result"
    }
   ],
   "source": [
    "'''i love python\n",
    "\"what might be my Mr.right?\"i asked'''"
   ]
  },
  {
   "cell_type": "code",
   "execution_count": 4,
   "id": "7c9ceeec",
   "metadata": {},
   "outputs": [
    {
     "data": {
      "text/plain": [
       "'i love python\"what might be my Mr.right?\"i asked'"
      ]
     },
     "execution_count": 4,
     "metadata": {},
     "output_type": "execute_result"
    }
   ],
   "source": [
    "'''i love python\"what might be my Mr.right?\"i asked'''"
   ]
  },
  {
   "cell_type": "code",
   "execution_count": 5,
   "id": "4d76dc54",
   "metadata": {},
   "outputs": [
    {
     "name": "stdout",
     "output_type": "stream",
     "text": [
      "i love python\n",
      "\"what might be my Mr.right?\"i asked\n"
     ]
    }
   ],
   "source": [
    "print('''i love python\n",
    "\"what might be my Mr.right?\"i asked''')"
   ]
  },
  {
   "cell_type": "code",
   "execution_count": 6,
   "id": "74f137a9",
   "metadata": {},
   "outputs": [
    {
     "name": "stdout",
     "output_type": "stream",
     "text": [
      "i love python\n",
      "\"what might be my Mr.right?\"i asked\n",
      "\"he maynot show up right now\"\n"
     ]
    }
   ],
   "source": [
    "print('''i love python\n",
    "\"what might be my Mr.right?\"i asked\n",
    "\"he maynot show up right now\"''')"
   ]
  },
  {
   "cell_type": "code",
   "execution_count": 8,
   "id": "6a34d27e",
   "metadata": {},
   "outputs": [
    {
     "name": "stdout",
     "output_type": "stream",
     "text": [
      "what's wrong with you\n",
      "i just hate you\n"
     ]
    }
   ],
   "source": [
    "print('what\\'s wrong with you\\ni just hate you')"
   ]
  },
  {
   "cell_type": "code",
   "execution_count": 9,
   "id": "8b3fa38d",
   "metadata": {},
   "outputs": [
    {
     "name": "stdout",
     "output_type": "stream",
     "text": [
      "what's wrong with you\ti just hate you\n"
     ]
    }
   ],
   "source": [
    "print('what\\'s wrong with you\\ti just hate you')"
   ]
  },
  {
   "cell_type": "code",
   "execution_count": 10,
   "id": "0332dab3",
   "metadata": {},
   "outputs": [
    {
     "name": "stdout",
     "output_type": "stream",
     "text": [
      "what's wrong with you\n",
      "i just hate you\t\n"
     ]
    }
   ],
   "source": [
    "print('what\\'s wrong with you\\ni just hate you\\t')"
   ]
  },
  {
   "cell_type": "code",
   "execution_count": 11,
   "id": "32b18568",
   "metadata": {},
   "outputs": [
    {
     "ename": "SyntaxError",
     "evalue": "EOL while scanning string literal (1651037381.py, line 1)",
     "output_type": "error",
     "traceback": [
      "\u001b[0;36m  File \u001b[0;32m\"/tmp/ipykernel_951909/1651037381.py\"\u001b[0;36m, line \u001b[0;32m1\u001b[0m\n\u001b[0;31m    print('This is the first sentence.\u001b[0m\n\u001b[0m                                       ^\u001b[0m\n\u001b[0;31mSyntaxError\u001b[0m\u001b[0;31m:\u001b[0m EOL while scanning string literal\n"
     ]
    }
   ],
   "source": [
    "print('This is the first sentence. \n",
    "This is the second sentence.\"')"
   ]
  },
  {
   "cell_type": "code",
   "execution_count": 12,
   "id": "e29cde80",
   "metadata": {},
   "outputs": [
    {
     "name": "stdout",
     "output_type": "stream",
     "text": [
      "This is the first sentence. This is the second sentence.this is the third sennmmmm\"\n"
     ]
    }
   ],
   "source": [
    "print('This is the first sentence. \\\n",
    "This is the second sentence.\\\n",
    "this is the third sennmmmm\"')"
   ]
  },
  {
   "cell_type": "code",
   "execution_count": null,
   "id": "d13367d1",
   "metadata": {},
   "outputs": [],
   "source": []
  }
 ],
 "metadata": {
  "kernelspec": {
   "display_name": "Python 3 (ipykernel)",
   "language": "python",
   "name": "python3"
  },
  "language_info": {
   "codemirror_mode": {
    "name": "ipython",
    "version": 3
   },
   "file_extension": ".py",
   "mimetype": "text/x-python",
   "name": "python",
   "nbconvert_exporter": "python",
   "pygments_lexer": "ipython3",
   "version": "3.9.7"
  }
 },
 "nbformat": 4,
 "nbformat_minor": 5
}
