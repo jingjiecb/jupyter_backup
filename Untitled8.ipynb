{
 "cells": [
  {
   "cell_type": "code",
   "execution_count": 9,
   "id": "ae74e66f",
   "metadata": {},
   "outputs": [
    {
     "name": "stdout",
     "output_type": "stream",
     "text": [
      "True\n"
     ]
    }
   ],
   "source": [
    "a=True\n",
    "b=False\n",
    "C= a or not b\n",
    "print(C)"
   ]
  },
  {
   "cell_type": "code",
   "execution_count": null,
   "id": "dfaefeea",
   "metadata": {},
   "outputs": [],
   "source": [
    "number=32\n",
    "guess= int(input('give me a number:'))\n",
    "if guess==number\n",
    "    print(true)"
   ]
  },
  {
   "cell_type": "code",
   "execution_count": null,
   "id": "53e2df53",
   "metadata": {},
   "outputs": [],
   "source": [
    "number=32\n",
    "guess= int(input('give me a number:'))\n",
    "    print(guess)"
   ]
  },
  {
   "cell_type": "code",
   "execution_count": 32,
   "id": "0542b338",
   "metadata": {},
   "outputs": [
    {
     "ename": "SyntaxError",
     "evalue": "invalid character '：' (U+FF1A) (3962610664.py, line 5)",
     "output_type": "error",
     "traceback": [
      "\u001b[0;36m  File \u001b[0;32m\"/tmp/ipykernel_962853/3962610664.py\"\u001b[0;36m, line \u001b[0;32m5\u001b[0m\n\u001b[0;31m    elif guess<numver：\u001b[0m\n\u001b[0m                     ^\u001b[0m\n\u001b[0;31mSyntaxError\u001b[0m\u001b[0;31m:\u001b[0m invalid character '：' (U+FF1A)\n"
     ]
    }
   ],
   "source": [
    "number=22\n",
    "guess= int(input('give me a number:'))\n",
    "if guess == number\n",
    "    print('true')\n",
    "elif guess<numver：\n",
    "    print('give me more')\n",
    "else：\n",
    "    print('ok fine')\n",
    "print('done')"
   ]
  },
  {
   "cell_type": "code",
   "execution_count": 26,
   "id": "c00d6e5c",
   "metadata": {},
   "outputs": [
    {
     "name": "stdout",
     "output_type": "stream",
     "text": [
      "Enter an integer : 22\n",
      "No, it is a little higher than that\n",
      "Done\n"
     ]
    }
   ],
   "source": [
    "number = 23\n",
    "guess = int(input('Enter an integer : '))\n",
    "if guess == number:\n",
    "# 新块从这里开始\n",
    "    print('Congratulations, you guessed it.')\n",
    "    print('(but you do not win any prizes!)')\n",
    "# 新块在这里结束\n",
    "elif guess < number:\n",
    "# 另一代码块\n",
    "    print('No, it is a little higher than that')\n",
    "# 你可以在此做任何你希望在该代码块内进行的事情\n",
    "else:\n",
    "    print('No, it is a little lower than that')\n",
    "# 你必须通过猜测一个大于（>）设置数的数字来到达这里。\n",
    "print('Done')\n",
    "# 这最后一句语句"
   ]
  },
  {
   "cell_type": "code",
   "execution_count": 38,
   "id": "a2bdbb94",
   "metadata": {},
   "outputs": [
    {
     "name": "stdout",
     "output_type": "stream",
     "text": [
      "give me a number:23\n",
      "ok fine\n",
      "done\n"
     ]
    }
   ],
   "source": [
    "number=22\n",
    "guess= int(input('give me a number:'))\n",
    "if guess == number:\n",
    "    print('true')\n",
    "elif guess<number:\n",
    "    print('give me more')\n",
    "else:\n",
    "    print('ok fine')\n",
    "print('done')"
   ]
  },
  {
   "cell_type": "code",
   "execution_count": 42,
   "id": "bce0443c",
   "metadata": {},
   "outputs": [
    {
     "name": "stdout",
     "output_type": "stream",
     "text": [
      "say something to me:i hate you\n",
      "get out\n",
      "Done\n"
     ]
    }
   ],
   "source": [
    "string='i love you'\n",
    "guess=input('say something to me:')\n",
    "if guess==string:\n",
    "   print('i love you too')\n",
    "else:\n",
    "   print('get out')\n",
    "print('Done')"
   ]
  },
  {
   "cell_type": "code",
   "execution_count": null,
   "id": "16438dd2",
   "metadata": {},
   "outputs": [],
   "source": [
    "guess=input('aaa')\n",
    "print(guess)"
   ]
  },
  {
   "cell_type": "code",
   "execution_count": null,
   "id": "8603d5f8",
   "metadata": {},
   "outputs": [],
   "source": [
    "guess=input('say something to me:')\n",
    "print(guess)"
   ]
  },
  {
   "cell_type": "code",
   "execution_count": null,
   "id": "0f4c803e",
   "metadata": {},
   "outputs": [],
   "source": [
    "guess=input('aaa')\n",
    "print(guess)"
   ]
  },
  {
   "cell_type": "code",
   "execution_count": null,
   "id": "58825b66",
   "metadata": {},
   "outputs": [],
   "source": []
  }
 ],
 "metadata": {
  "kernelspec": {
   "display_name": "Python 3 (ipykernel)",
   "language": "python",
   "name": "python3"
  },
  "language_info": {
   "codemirror_mode": {
    "name": "ipython",
    "version": 3
   },
   "file_extension": ".py",
   "mimetype": "text/x-python",
   "name": "python",
   "nbconvert_exporter": "python",
   "pygments_lexer": "ipython3",
   "version": "3.9.7"
  }
 },
 "nbformat": 4,
 "nbformat_minor": 5
}
