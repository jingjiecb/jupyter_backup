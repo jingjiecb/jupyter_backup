{
 "cells": [
  {
   "cell_type": "markdown",
   "id": "3ee6f0ae",
   "metadata": {},
   "source": [
    "## 练习1\n",
    "预测下列函数的输出"
   ]
  },
  {
   "cell_type": "code",
   "execution_count": null,
   "id": "4d6e3a15",
   "metadata": {},
   "outputs": [],
   "source": [
    "x = 0\n",
    "def outer():\n",
    "    x = 1\n",
    "    def inner():\n",
    "        global x\n",
    "        x = 2\n",
    "        print(\"inner:\", x)\n",
    "\n",
    "    inner()\n",
    "    print(\"outer:\", x)\n",
    "\n",
    "outer()\n",
    "print(\"global:\", x)"
   ]
  },
  {
   "cell_type": "markdown",
   "id": "b625cc2b",
   "metadata": {},
   "source": [
    "## 练习2\n",
    "下列三个函数`test1` `test2`和`test3`在调用时是否会报错？"
   ]
  },
  {
   "cell_type": "code",
   "execution_count": null,
   "id": "f3c347a1",
   "metadata": {},
   "outputs": [],
   "source": [
    "y = 1\n",
    "\n",
    "def test3():\n",
    "    local_y = y + 1\n",
    "    print(\"函数内可以访问自己的局部变量\")\n",
    "    print(local_y)\n",
    "    \n",
    "test3()\n",
    "print(\"不能在函数外面访问函数内的局部变量\")\n",
    "print(local_y)"
   ]
  },
  {
   "cell_type": "code",
   "execution_count": null,
   "id": "816984e6",
   "metadata": {},
   "outputs": [],
   "source": [
    "a = 1\n",
    "\n",
    "def test1():\n",
    "    a += 1\n",
    "\n",
    "test1()\n",
    "print(a)"
   ]
  },
  {
   "cell_type": "code",
   "execution_count": null,
   "id": "934045c5",
   "metadata": {},
   "outputs": [],
   "source": [
    "b = 1\n",
    "\n",
    "def test2():\n",
    "    global b\n",
    "    b += 1\n",
    "\n",
    "test2()\n",
    "print(b)"
   ]
  },
  {
   "cell_type": "code",
   "execution_count": null,
   "id": "f15537fa",
   "metadata": {},
   "outputs": [],
   "source": []
  }
 ],
 "metadata": {
  "kernelspec": {
   "display_name": "Python 3 (ipykernel)",
   "language": "python",
   "name": "python3"
  },
  "language_info": {
   "codemirror_mode": {
    "name": "ipython",
    "version": 3
   },
   "file_extension": ".py",
   "mimetype": "text/x-python",
   "name": "python",
   "nbconvert_exporter": "python",
   "pygments_lexer": "ipython3",
   "version": "3.9.7"
  }
 },
 "nbformat": 4,
 "nbformat_minor": 5
}
