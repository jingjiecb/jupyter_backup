{
 "cells": [
  {
   "cell_type": "markdown",
   "id": "3ee6f0ae",
   "metadata": {},
   "source": [
    "## 练习1\n",
    "预测下列函数的输出"
   ]
  },
  {
   "cell_type": "code",
   "execution_count": 1,
   "id": "4d6e3a15",
   "metadata": {},
   "outputs": [
    {
     "name": "stdout",
     "output_type": "stream",
     "text": [
      "inner: 2\n",
      "outer: 1\n",
      "global: 2\n"
     ]
    }
   ],
   "source": [
    "x = 0\n",
    "def outer():\n",
    "    x = 1\n",
    "    def inner():\n",
    "        global x\n",
    "        x = 2\n",
    "        print(\"inner:\", x)\n",
    "\n",
    "    inner()\n",
    "    print(\"outer:\", x)\n",
    "\n",
    "outer()\n",
    "print(\"global:\", x)"
   ]
  },
  {
   "cell_type": "markdown",
   "id": "b625cc2b",
   "metadata": {},
   "source": [
    "## 练习2\n",
    "下列三个函数`test1` `test2`和`test3`在调用时是否会报错？"
   ]
  },
  {
   "cell_type": "code",
   "execution_count": 6,
   "id": "f3c347a1",
   "metadata": {},
   "outputs": [
    {
     "name": "stdout",
     "output_type": "stream",
     "text": [
      "函数内可以访问自己的局部变量\n",
      "2\n",
      "不能在函数外面访问函数内的局部变量\n"
     ]
    },
    {
     "ename": "NameError",
     "evalue": "name 'local_y' is not defined",
     "output_type": "error",
     "traceback": [
      "\u001b[0;31m---------------------------------------------------------------------------\u001b[0m",
      "\u001b[0;31mNameError\u001b[0m                                 Traceback (most recent call last)",
      "\u001b[0;32m/tmp/ipykernel_1214/2634426562.py\u001b[0m in \u001b[0;36m<module>\u001b[0;34m\u001b[0m\n\u001b[1;32m      8\u001b[0m \u001b[0mtest3\u001b[0m\u001b[0;34m(\u001b[0m\u001b[0my\u001b[0m\u001b[0;34m)\u001b[0m\u001b[0;34m\u001b[0m\u001b[0;34m\u001b[0m\u001b[0m\n\u001b[1;32m      9\u001b[0m \u001b[0mprint\u001b[0m\u001b[0;34m(\u001b[0m\u001b[0;34m\"不能在函数外面访问函数内的局部变量\"\u001b[0m\u001b[0;34m)\u001b[0m\u001b[0;34m\u001b[0m\u001b[0;34m\u001b[0m\u001b[0m\n\u001b[0;32m---> 10\u001b[0;31m \u001b[0mprint\u001b[0m\u001b[0;34m(\u001b[0m\u001b[0mlocal_y\u001b[0m\u001b[0;34m)\u001b[0m\u001b[0;34m\u001b[0m\u001b[0;34m\u001b[0m\u001b[0m\n\u001b[0m",
      "\u001b[0;31mNameError\u001b[0m: name 'local_y' is not defined"
     ]
    }
   ],
   "source": [
    "y = 1\n",
    "\n",
    "def test3(y):\n",
    "    local_y = y + 1\n",
    "    print(\"函数内可以访问自己的局部变量\")\n",
    "    print(local_y)\n",
    "    \n",
    "test3(y)\n",
    "print(\"不能在函数外面访问函数内的局部变量\")\n",
    "print(local_y)"
   ]
  },
  {
   "cell_type": "code",
   "execution_count": 4,
   "id": "934045c5",
   "metadata": {},
   "outputs": [
    {
     "name": "stdout",
     "output_type": "stream",
     "text": [
      "2\n"
     ]
    }
   ],
   "source": [
    "b = 1\n",
    "\n",
    "def test2():\n",
    "    global b\n",
    "    b += 1\n",
    "\n",
    "test2()\n",
    "print(b)"
   ]
  },
  {
   "cell_type": "code",
   "execution_count": null,
   "id": "f15537fa",
   "metadata": {},
   "outputs": [],
   "source": []
  }
 ],
 "metadata": {
  "kernelspec": {
   "display_name": "Python 3 (ipykernel)",
   "language": "python",
   "name": "python3"
  },
  "language_info": {
   "codemirror_mode": {
    "name": "ipython",
    "version": 3
   },
   "file_extension": ".py",
   "mimetype": "text/x-python",
   "name": "python",
   "nbconvert_exporter": "python",
   "pygments_lexer": "ipython3",
   "version": "3.9.7"
  }
 },
 "nbformat": 4,
 "nbformat_minor": 5
}
