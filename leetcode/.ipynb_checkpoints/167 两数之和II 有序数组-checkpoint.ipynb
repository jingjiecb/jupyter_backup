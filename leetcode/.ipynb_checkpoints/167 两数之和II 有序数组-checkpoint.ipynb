{
 "cells": [
  {
   "cell_type": "markdown",
   "id": "54f61bd3",
   "metadata": {},
   "source": [
    "## 两数之和II 有序数组\n",
    "给定一个已按照 非递减顺序排列  的整数数组 numbers ，请你从数组中找出两个数满足相加之和等于目标数 target 。\n",
    "\n",
    "函数应该以长度为 2 的整数数组的形式返回这两个数的下标值。numbers 的下标 从 1 开始计数 ，所以答案数组应当满足 1 <= answer[0] < answer[1] <= numbers.length 。\n",
    "\n",
    "你可以假设每个输入 只对应唯一的答案 ，而且你 不可以 重复使用相同的元素。"
   ]
  },
  {
   "cell_type": "code",
   "execution_count": 1,
   "id": "cdf2f054",
   "metadata": {},
   "outputs": [],
   "source": [
    "from typing import List\n",
    "\n",
    "class Solution:\n",
    "    def twoSum(self, numbers: List[int], target: int) -> List[int]:\n",
    "        length = len(numbers)\n",
    "        left, right = 0, length - 1\n",
    "        current = 0\n",
    "        while left < right:\n",
    "            current = numbers[left] + numbers[right]\n",
    "            if  current == target:\n",
    "                return [left + 1, right + 1]\n",
    "            elif current < target:\n",
    "                left += 1\n",
    "            else:\n",
    "                right -= 1\n",
    "        return [0, 0]"
   ]
  },
  {
   "cell_type": "markdown",
   "id": "6859173e",
   "metadata": {},
   "source": [
    "### 解析\n",
    "\n",
    "因为是有序数组，所以其实第一个数确定的时候，只要两个相邻位置的数可能和他相加等于target。\n",
    "可以使用双指针，一开始两个指针分别在开头和结尾，每次计算两指针处数字之和：\n",
    "\n",
    "- 如果正好是target就输出\n",
    "- 如果大于target就将右边指针左移一个（尝试将结果变小）\n",
    "- 如果小于target就将左边指针右移一个（尝试将结果变大）\n",
    "\n",
    "这样就可以覆盖到所有有可能的组合情况。"
   ]
  },
  {
   "cell_type": "code",
   "execution_count": null,
   "id": "30bfa250",
   "metadata": {},
   "outputs": [],
   "source": []
  }
 ],
 "metadata": {
  "kernelspec": {
   "display_name": "Python 3 (ipykernel)",
   "language": "python",
   "name": "python3"
  },
  "language_info": {
   "codemirror_mode": {
    "name": "ipython",
    "version": 3
   },
   "file_extension": ".py",
   "mimetype": "text/x-python",
   "name": "python",
   "nbconvert_exporter": "python",
   "pygments_lexer": "ipython3",
   "version": "3.9.7"
  }
 },
 "nbformat": 4,
 "nbformat_minor": 5
}
