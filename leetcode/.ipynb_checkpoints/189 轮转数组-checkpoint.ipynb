{
 "cells": [
  {
   "cell_type": "markdown",
   "id": "589271d8",
   "metadata": {},
   "source": [
    "## 轮转数组\n",
    "给你一个数组，将数组中的元素向右轮转 k 个位置，其中 k 是非负数。"
   ]
  },
  {
   "cell_type": "code",
   "execution_count": 2,
   "id": "18059365",
   "metadata": {},
   "outputs": [],
   "source": [
    "from typing import List\n",
    "\n",
    "class Solution:\n",
    "    def rotate(self, nums: List[int], k: int) -> None:\n",
    "        \"\"\"\n",
    "        Do not return anything, modify nums in-place instead.\n",
    "        \"\"\"\n",
    "        nums.reverse()\n",
    "        l = len(nums)\n",
    "        k %= l\n",
    "        self.part_reverse(nums, 0, k - 1)\n",
    "        self.part_reverse(nums, k, l - 1)\n",
    "    \n",
    "    def part_reverse(self, nums, begin, end):\n",
    "        while begin < end:\n",
    "            nums[begin], nums[end] = nums[end], nums[begin]\n",
    "            begin += 1\n",
    "            end -= 1\n",
    "            "
   ]
  },
  {
   "cell_type": "markdown",
   "id": "e38e7bee",
   "metadata": {},
   "source": [
    "### 题解\n",
    "这个题目可以通过开辟新数组的方法很快解决，但是如果要求O(1)空间复杂度的话就没有这么容易去做了\n",
    "可以观察轮转数组的规律。把整个数组想象成一条鱼，现在将鱼劈开然后两部分前后调换，其实就实现了数组的轮转。对于数组也是，假设鱼头朝右，在从鱼头开始往左的k节处劈开，然后和前面部分调换位置就可以完成轮转。但是调换的时候如果直接去做，还是需要至少一个k大小的数组用来暂存。\n",
    "如果还要不适用额外空间，那么可以这样：先把鱼翻身，劈开之后，两部分再分别翻转。\n",
    "于是就有了上面的算法。"
   ]
  },
  {
   "cell_type": "code",
   "execution_count": null,
   "id": "081d4a91",
   "metadata": {},
   "outputs": [],
   "source": []
  }
 ],
 "metadata": {
  "kernelspec": {
   "display_name": "Python 3 (ipykernel)",
   "language": "python",
   "name": "python3"
  },
  "language_info": {
   "codemirror_mode": {
    "name": "ipython",
    "version": 3
   },
   "file_extension": ".py",
   "mimetype": "text/x-python",
   "name": "python",
   "nbconvert_exporter": "python",
   "pygments_lexer": "ipython3",
   "version": "3.9.7"
  }
 },
 "nbformat": 4,
 "nbformat_minor": 5
}
