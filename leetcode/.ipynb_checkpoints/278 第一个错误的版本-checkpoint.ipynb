{
 "cells": [
  {
   "cell_type": "markdown",
   "id": "1252a75e",
   "metadata": {},
   "source": [
    "## 第一个错误的版本\n",
    "你是产品经理，目前正在带领一个团队开发新的产品。不幸的是，你的产品的最新版本没有通过质量检测。由于每个版本都是基于之前的版本开发的，所以错误的版本之后的所有版本都是错的。\n",
    "\n",
    "假设你有 n 个版本 [1, 2, ..., n]，你想找出导致之后所有版本出错的第一个错误的版本。\n",
    "\n",
    "你可以通过调用 bool isBadVersion(version) 接口来判断版本号 version 是否在单元测试中出错。实现一个函数来查找第一个错误的版本。你应该尽量减少对调用 API 的次数。\n"
   ]
  },
  {
   "cell_type": "code",
   "execution_count": 3,
   "id": "f93a4d01",
   "metadata": {},
   "outputs": [],
   "source": [
    "# The isBadVersion API is already defined for you.\n",
    "# @param version, an integer\n",
    "# @return an integer\n",
    "# def isBadVersion(version):\n",
    "\n",
    "class Solution:\n",
    "    def firstBadVersion(self, n):\n",
    "        \"\"\"\n",
    "        :type n: int\n",
    "        :rtype: int\n",
    "        \"\"\"\n",
    "        left, right = 0, n\n",
    "        while left <= right:\n",
    "            current = (left + right) // 2\n",
    "            is_current_bad = isBadVersion(current)\n",
    "            is_current_previous_bad = isBadVersion(current -1)\n",
    "            if is_current_bad and not is_current_previous_bad:\n",
    "                return current\n",
    "            elif not is_current_bad:\n",
    "                left = current + 1\n",
    "            else:\n",
    "                right = current - 1"
   ]
  },
  {
   "cell_type": "markdown",
   "id": "77de02e1",
   "metadata": {},
   "source": [
    "### 题解\n",
    "使用二分查找即可，问题转化为找到这一组数中第一个满足条件的版本。\n",
    "第一个满足条件的版本的特征是：虽然自己是出错版本，但是自己的上一个版本应该是未出错版本。\n",
    "之后使用二分法查找即可。"
   ]
  }
 ],
 "metadata": {
  "kernelspec": {
   "display_name": "Python 3 (ipykernel)",
   "language": "python",
   "name": "python3"
  },
  "language_info": {
   "codemirror_mode": {
    "name": "ipython",
    "version": 3
   },
   "file_extension": ".py",
   "mimetype": "text/x-python",
   "name": "python",
   "nbconvert_exporter": "python",
   "pygments_lexer": "ipython3",
   "version": "3.9.7"
  }
 },
 "nbformat": 4,
 "nbformat_minor": 5
}
