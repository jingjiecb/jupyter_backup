{
 "cells": [
  {
   "cell_type": "markdown",
   "id": "21ccb4c0",
   "metadata": {},
   "source": [
    "## 移动零\n",
    "\n",
    "给定一个数组 nums，编写一个函数将所有 0 移动到数组的末尾，同时保持非零元素的相对顺序。\n",
    "\n",
    "请注意 ，必须在不复制数组的情况下原地对数组进行操作。"
   ]
  },
  {
   "cell_type": "code",
   "execution_count": 1,
   "id": "c2f4dc1f",
   "metadata": {},
   "outputs": [],
   "source": [
    "from typing import List\n",
    "\n",
    "class Solution:\n",
    "    def moveZeroes(self, nums: List[int]) -> None:\n",
    "        \"\"\"\n",
    "        Do not return anything, modify nums in-place instead.\n",
    "        \"\"\"\n",
    "        length = len(nums)\n",
    "        if length < 2:\n",
    "            return\n",
    "        \n",
    "        left = 0\n",
    "        while left < length and nums[left] != 0:\n",
    "            left += 1\n",
    "        right = left + 1\n",
    "        while right < length:\n",
    "            if nums[right] != 0:\n",
    "                nums[left], nums[right] = nums[right], nums[left]\n",
    "                left += 1\n",
    "            right += 1\n",
    "                "
   ]
  },
  {
   "cell_type": "markdown",
   "id": "f5db6eae",
   "metadata": {},
   "source": [
    "### 解析\n",
    "可以想象一种场景：左右两个指针夹着中间的零串从左扫到右。左边指针前面都是处理好的非零串，右边指针前面是满足结果的串。\n",
    "如果右边指针碰到的下一个数字不是0，就和左边交换，然后左右分别向右移动1.如果碰到的是0，只需要移动右边指针去找下一个不是0的即可。\n",
    "一直到右边碰到底，得到最终结果。"
   ]
  },
  {
   "cell_type": "code",
   "execution_count": 2,
   "id": "042cdfc2",
   "metadata": {},
   "outputs": [
    {
     "data": {
      "text/plain": [
       "[1, -3, 12, 0, 0]"
      ]
     },
     "execution_count": 2,
     "metadata": {},
     "output_type": "execute_result"
    }
   ],
   "source": [
    "li = [0, 1, -3, 0, 12]\n",
    "Solution().moveZeroes(li)\n",
    "li"
   ]
  },
  {
   "cell_type": "code",
   "execution_count": null,
   "id": "0729a6d1",
   "metadata": {},
   "outputs": [],
   "source": []
  }
 ],
 "metadata": {
  "kernelspec": {
   "display_name": "Python 3 (ipykernel)",
   "language": "python",
   "name": "python3"
  },
  "language_info": {
   "codemirror_mode": {
    "name": "ipython",
    "version": 3
   },
   "file_extension": ".py",
   "mimetype": "text/x-python",
   "name": "python",
   "nbconvert_exporter": "python",
   "pygments_lexer": "ipython3",
   "version": "3.9.7"
  }
 },
 "nbformat": 4,
 "nbformat_minor": 5
}
