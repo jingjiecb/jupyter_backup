{
 "cells": [
  {
   "cell_type": "markdown",
   "id": "12094db0",
   "metadata": {},
   "source": [
    "## 搜索插入位置\n",
    "给定一个排序数组和一个目标值，在数组中找到目标值，并返回其索引。如果目标值不存在于数组中，返回它将会被按顺序插入的位置。\n",
    "\n",
    "请必须使用时间复杂度为 O(log n) 的算法。\n"
   ]
  },
  {
   "cell_type": "code",
   "execution_count": 2,
   "id": "cc862fe4",
   "metadata": {},
   "outputs": [],
   "source": [
    "from typing import List\n",
    "\n",
    "class Solution:\n",
    "    def searchInsert(self, nums: List[int], target: int) -> int:\n",
    "        left, right = 0, len(nums) - 1\n",
    "        current = 0\n",
    "        current_num = 0\n",
    "        while left <= right:\n",
    "            current = (left + right) // 2\n",
    "            current_num = nums[current]\n",
    "            if current_num == target:\n",
    "                return current\n",
    "            elif current_num < target:\n",
    "                left = current + 1\n",
    "            else:\n",
    "                right = current - 1\n",
    "        return current if current_num > target else current + 1"
   ]
  },
  {
   "cell_type": "code",
   "execution_count": 3,
   "id": "8dc5d541",
   "metadata": {},
   "outputs": [
    {
     "data": {
      "text/plain": [
       "3"
      ]
     },
     "execution_count": 3,
     "metadata": {},
     "output_type": "execute_result"
    }
   ],
   "source": [
    "Solution().searchInsert([0,3,9], 10)"
   ]
  },
  {
   "cell_type": "markdown",
   "id": "e8cc6b96",
   "metadata": {},
   "source": [
    "### 题解\n",
    "抛去要寻找插入位置不谈，如果只是要求查看有没有目标值，这个题就是最简单的二分查找问题。\n",
    "问题变成：二分查找中如何确定最后插入target的位置呢？\n",
    "其实只需要看最后一次比较的current_num和target的大小比较就可以了。因为最后一次比较的这个数字一定是和target最接近的。如果最后一次比较的这个数比target小，那么后面的那个数一定比target大，将target插入到这个数后面即可；如果最后一次比较的数比target大，那么他前面的数一定比target小，将target插入到这个数前面即可。\n",
    "对于最后一次比较的数在两端的特殊情况依然适用。"
   ]
  },
  {
   "cell_type": "code",
   "execution_count": null,
   "id": "d2e1a50c",
   "metadata": {},
   "outputs": [],
   "source": []
  }
 ],
 "metadata": {
  "kernelspec": {
   "display_name": "Python 3 (ipykernel)",
   "language": "python",
   "name": "python3"
  },
  "language_info": {
   "codemirror_mode": {
    "name": "ipython",
    "version": 3
   },
   "file_extension": ".py",
   "mimetype": "text/x-python",
   "name": "python",
   "nbconvert_exporter": "python",
   "pygments_lexer": "ipython3",
   "version": "3.9.7"
  }
 },
 "nbformat": 4,
 "nbformat_minor": 5
}
