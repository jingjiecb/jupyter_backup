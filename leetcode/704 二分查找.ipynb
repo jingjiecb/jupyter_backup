{
 "cells": [
  {
   "cell_type": "markdown",
   "id": "748e6077",
   "metadata": {},
   "source": [
    "## 二分查找\n",
    "给定一个 n 个元素有序的（升序）整型数组 nums 和一个目标值 target  ，写一个函数搜索 nums 中的 target，如果目标值存在返回下标，否则返回 -1。"
   ]
  },
  {
   "cell_type": "code",
   "execution_count": 5,
   "id": "2fbb6884",
   "metadata": {},
   "outputs": [],
   "source": [
    "from typing import List\n",
    "\n",
    "class Solution:\n",
    "    def search(self, nums: List[int], target: int) -> int:\n",
    "        left, right = 0, len(nums) - 1\n",
    "        while left <= right:\n",
    "            current_index = (left + right) // 2\n",
    "            current_num = nums[current_index]\n",
    "            if current_num == target:\n",
    "                return current_index\n",
    "            elif current_num < target:\n",
    "                left = current_index + 1\n",
    "            else:\n",
    "                right = current_index - 1\n",
    "        return -1"
   ]
  },
  {
   "cell_type": "code",
   "execution_count": 6,
   "id": "ec4451aa",
   "metadata": {},
   "outputs": [
    {
     "data": {
      "text/plain": [
       "4"
      ]
     },
     "execution_count": 6,
     "metadata": {},
     "output_type": "execute_result"
    }
   ],
   "source": [
    "Solution().search([-1,0,3,5,9,12], 9)"
   ]
  },
  {
   "cell_type": "markdown",
   "id": "35acfcd4",
   "metadata": {},
   "source": [
    "### 题解\n",
    "这是一个二分查找的标准范例。\n",
    "二分查找的步骤分为以下几个部分:\n",
    "1. 确定查找的总体范围。如果是列表那就是从list[0]到list[len(list) - 1]，以这两个元素作为left和right的初始值。需要有这样的思想：left和right框定的范围就代表了要查找的元素可能出现的范围。往下的思考会方便很多\n",
    "2. 计算二分查找的中值点。current = (left + right) // 2\n",
    "3. 根据现在中值点的情况判断：\n",
    "    - 如果中值点符合要求，就表示找到了，返回该点的下标\n",
    "    - 如果中值点比要查找的内容小，表示目标可能出现的范围一定在该点之后（不包含该点），于是重设left = current + 1\n",
    "    - 如果中值点比要目标大，表示目标可能出现的范围一定在该点之前（不包含该点），于是重设right = left - 1\n",
    "4. 在保持left <= right的条件下不断重复2-3的步骤，直到返回或者跳出。如果该条件不满足时依然没有返回，则说明没有找到目标。"
   ]
  }
 ],
 "metadata": {
  "kernelspec": {
   "display_name": "Python 3 (ipykernel)",
   "language": "python",
   "name": "python3"
  },
  "language_info": {
   "codemirror_mode": {
    "name": "ipython",
    "version": 3
   },
   "file_extension": ".py",
   "mimetype": "text/x-python",
   "name": "python",
   "nbconvert_exporter": "python",
   "pygments_lexer": "ipython3",
   "version": "3.9.7"
  }
 },
 "nbformat": 4,
 "nbformat_minor": 5
}
