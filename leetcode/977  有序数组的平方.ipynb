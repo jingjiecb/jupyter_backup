{
 "cells": [
  {
   "cell_type": "markdown",
   "id": "ac6d4a3e",
   "metadata": {},
   "source": [
    "## 有序数组的平方\n",
    "给你一个按 非递减顺序 排序的整数数组 nums，返回 每个数字的平方 组成的新数组，要求也按 非递减顺序 排序。"
   ]
  },
  {
   "cell_type": "code",
   "execution_count": 1,
   "id": "eddb79ac",
   "metadata": {},
   "outputs": [],
   "source": [
    "from typing import List\n",
    "\n",
    "class Solution:\n",
    "    def sortedSquares(self, nums: List[int]) -> List[int]:\n",
    "        border = 0\n",
    "        length = len(nums)\n",
    "\n",
    "        if length == 0:\n",
    "            return []\n",
    "\n",
    "        while border < length and nums[border] < 0:\n",
    "            border += 1\n",
    "\n",
    "        left, right = border - 1, border\n",
    "        results = []\n",
    "        while left >=0 or right <= (length - 1):\n",
    "            left_num = float('inf') if left < 0 else nums[left] ** 2\n",
    "            right_num = float('inf') if right > (length - 1) else nums[right] ** 2\n",
    "            if left_num < right_num:\n",
    "                results += [left_num]\n",
    "                left -= 1\n",
    "            else:\n",
    "                results += [right_num]\n",
    "                right += 1\n",
    "        return results"
   ]
  },
  {
   "cell_type": "markdown",
   "id": "f5d27792",
   "metadata": {},
   "source": [
    "### 题解\n",
    "双指针方法完成就可以在O(n)复杂度内完成。\n",
    "首先找到正数和负数的分界线，然后在分界线处给正数和负数部分各一个指针，将题目变成两个数组的一次归并排序。\n",
    "同时适应全为正数和全为负数的特殊情况即可"
   ]
  },
  {
   "cell_type": "code",
   "execution_count": null,
   "id": "63505845",
   "metadata": {},
   "outputs": [],
   "source": []
  }
 ],
 "metadata": {
  "kernelspec": {
   "display_name": "Python 3 (ipykernel)",
   "language": "python",
   "name": "python3"
  },
  "language_info": {
   "codemirror_mode": {
    "name": "ipython",
    "version": 3
   },
   "file_extension": ".py",
   "mimetype": "text/x-python",
   "name": "python",
   "nbconvert_exporter": "python",
   "pygments_lexer": "ipython3",
   "version": "3.9.7"
  }
 },
 "nbformat": 4,
 "nbformat_minor": 5
}
