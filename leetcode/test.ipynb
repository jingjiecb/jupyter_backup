{
 "cells": [
  {
   "cell_type": "code",
   "execution_count": 1,
   "id": "d397093a",
   "metadata": {},
   "outputs": [
    {
     "data": {
      "text/plain": [
       "[1, 3, 2, 4]"
      ]
     },
     "execution_count": 1,
     "metadata": {},
     "output_type": "execute_result"
    }
   ],
   "source": [
    "li = [1,2,3,4]\n",
    "li[1], li[2] = li[2], li[1]\n",
    "li"
   ]
  },
  {
   "cell_type": "code",
   "execution_count": 7,
   "id": "ea41d67f",
   "metadata": {},
   "outputs": [
    {
     "data": {
      "text/plain": [
       "[2, 3, 4, 1, 5]"
      ]
     },
     "execution_count": 7,
     "metadata": {},
     "output_type": "execute_result"
    }
   ],
   "source": [
    "from typing import List\n",
    "\n",
    "class Solution:\n",
    "    def moveZeroes(self, nums: List[int]) -> None:\n",
    "        \"\"\"\n",
    "        Do not return anything, modify nums in-place instead.\n",
    "        \"\"\"\n",
    "        length = len(nums)\n",
    "        if length == 0:\n",
    "            return\n",
    "        \n",
    "        left, right = 0, length - 1\n",
    "        while left < right:\n",
    "            if nums[left] == 0:\n",
    "                self.rotateLeftPart(nums, 1,left, right)\n",
    "                right -= 1\n",
    "            else:\n",
    "                left += 1\n",
    "\n",
    "\n",
    "    def rotateLeftPart(self, nums: List[int], k: int, left_border, right_border) -> None:\n",
    "        \"\"\"\n",
    "        Do not return anything, modify nums in-place instead.\n",
    "        \"\"\"\n",
    "        self.part_reverse(nums, left_border, right_border)\n",
    "        l = right_border - left_border + 1\n",
    "        k %= l\n",
    "        self.part_reverse(nums, left_border, right_border - k)\n",
    "        self.part_reverse(nums, right_border - k + 1, right_border)\n",
    "    \n",
    "    def part_reverse(self, nums, begin, end):\n",
    "        while begin < end:\n",
    "            nums[begin], nums[end] = nums[end], nums[begin]\n",
    "            begin += 1\n",
    "            end -= 1\n",
    "\n",
    "li = [1,2,3,4,5]\n",
    "Solution().rotateLeftPart(li, 1, 0, 3)\n",
    "li"
   ]
  },
  {
   "cell_type": "code",
   "execution_count": null,
   "id": "f00d94b6",
   "metadata": {},
   "outputs": [],
   "source": []
  }
 ],
 "metadata": {
  "kernelspec": {
   "display_name": "Python 3 (ipykernel)",
   "language": "python",
   "name": "python3"
  },
  "language_info": {
   "codemirror_mode": {
    "name": "ipython",
    "version": 3
   },
   "file_extension": ".py",
   "mimetype": "text/x-python",
   "name": "python",
   "nbconvert_exporter": "python",
   "pygments_lexer": "ipython3",
   "version": "3.9.7"
  }
 },
 "nbformat": 4,
 "nbformat_minor": 5
}
