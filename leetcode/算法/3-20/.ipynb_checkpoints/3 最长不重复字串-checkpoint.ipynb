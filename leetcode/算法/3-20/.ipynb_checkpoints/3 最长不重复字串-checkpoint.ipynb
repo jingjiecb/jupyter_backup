{
 "cells": [
  {
   "cell_type": "markdown",
   "id": "841cd904",
   "metadata": {},
   "source": [
    "# 3 无重复最长子串\n",
    "\n",
    "给定一个字符串 s ，请你找出其中不含有重复字符的 最长子串 的长度。\n",
    "\n",
    " \n",
    "\n",
    "示例 1:\n",
    "\n",
    "输入: s = \"abcabcbb\"\n",
    "输出: 3 \n",
    "解释: 因为无重复字符的最长子串是 \"abc\"，所以其长度为 3。\n",
    "\n",
    "示例 2:\n",
    "\n",
    "输入: s = \"bbbbb\"\n",
    "输出: 1\n",
    "解释: 因为无重复字符的最长子串是 \"b\"，所以其长度为 1。\n",
    "\n",
    "示例 3:\n",
    "\n",
    "输入: s = \"pwwkew\"\n",
    "输出: 3\n",
    "解释: 因为无重复字符的最长子串是 \"wke\"，所以其长度为 3。\n",
    "     请注意，你的答案必须是 子串 的长度，\"pwke\" 是一个子序列，不是子串。\n",
    " \n",
    "\n",
    "提示：\n",
    "\n",
    "0 <= s.length <= 5 * 104\n",
    "s 由英文字母、数字、符号和空格组成\n"
   ]
  },
  {
   "cell_type": "code",
   "execution_count": 1,
   "id": "35cc15a2",
   "metadata": {},
   "outputs": [],
   "source": [
    "class Solution:\n",
    "    def lengthOfLongestSubstring(self, s: str) -> int:\n",
    "        left, right = 0,0\n",
    "        letter_position = {}\n",
    "        result = 0\n",
    "        length = len(s)\n",
    "        while True:\n",
    "            while right < length and not s[right] in letter_position.keys():\n",
    "                letter_position[s[right]] = right\n",
    "                right += 1\n",
    "            result = max(right - left, result)\n",
    "            if right >= length:\n",
    "                break\n",
    "            current_left = letter_position[s[right]]\n",
    "            while left <= current_left:\n",
    "                letter_position.pop(s[left])\n",
    "                left += 1\n",
    "        return result"
   ]
  },
  {
   "cell_type": "markdown",
   "id": "8bb30bc1",
   "metadata": {},
   "source": [
    "分析：滑动窗口法\n",
    "两个指针中间夹住一个窗口，先右侧指针移动，直到条件不满足，然后再左侧指针移动直到条件满足。\n",
    "交替滑动来找到满足条件的最长窗口。"
   ]
  },
  {
   "cell_type": "code",
   "execution_count": null,
   "id": "d9d828be",
   "metadata": {},
   "outputs": [],
   "source": []
  }
 ],
 "metadata": {
  "kernelspec": {
   "display_name": "Python 3 (ipykernel)",
   "language": "python",
   "name": "python3"
  },
  "language_info": {
   "codemirror_mode": {
    "name": "ipython",
    "version": 3
   },
   "file_extension": ".py",
   "mimetype": "text/x-python",
   "name": "python",
   "nbconvert_exporter": "python",
   "pygments_lexer": "ipython3",
   "version": "3.9.7"
  }
 },
 "nbformat": 4,
 "nbformat_minor": 5
}
