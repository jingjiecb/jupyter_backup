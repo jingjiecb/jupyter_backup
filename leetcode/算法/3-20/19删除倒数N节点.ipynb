{
 "cells": [
  {
   "cell_type": "markdown",
   "id": "21f1f2d6",
   "metadata": {},
   "source": [
    "给你一个链表，删除链表的倒数第 n 个结点，并且返回链表的头结点。\n",
    "\n",
    " \n",
    "\n",
    "示例 1：\n",
    "\n",
    "\n",
    "输入：head = [1,2,3,4,5], n = 2\n",
    "输出：[1,2,3,5]\n",
    "\n",
    "示例 2：\n",
    "\n",
    "输入：head = [1], n = 1\n",
    "输出：[]\n",
    "\n",
    "示例 3：\n",
    "\n",
    "输入：head = [1,2], n = 1\n",
    "输出：[1]\n",
    " \n",
    "\n",
    "提示：\n",
    "\n",
    "链表中结点的数目为 sz\n",
    "1 <= sz <= 30\n",
    "0 <= Node.val <= 100\n",
    "1 <= n <= sz\n",
    " \n",
    "\n",
    "进阶：你能尝试使用一趟扫描实现吗？\n",
    "\n"
   ]
  },
  {
   "cell_type": "code",
   "execution_count": 1,
   "id": "cbb9d279",
   "metadata": {},
   "outputs": [],
   "source": [
    "#Definition for singly-linked list.\n",
    "class ListNode:\n",
    "    def __init__(self, val=0, next=None):\n",
    "        self.val = val\n",
    "        self.next = next\n",
    "class Solution:\n",
    "    def removeNthFromEnd(self, head: ListNode, n: int) -> ListNode:\n",
    "        target, tail = head, head\n",
    "        for i in range(n):\n",
    "            tail = tail.next\n",
    "        if tail == None:\n",
    "            head= head.next\n",
    "            return head\n",
    "        while(tail.next != None):\n",
    "            tail = tail.next\n",
    "            target = target.next\n",
    "        target.next = target.next.next\n",
    "        return head"
   ]
  },
  {
   "cell_type": "markdown",
   "id": "fc99a212",
   "metadata": {},
   "source": [
    "分析：双指针解题。还采用双人赛跑的思路来解决（双指针大多数都可以采用这样的比喻思路，好理解一点）。\n",
    "小明先和小红拉开N米的差距，之后两个人等速起跑，那么当小明跑到终点的时候，小红的位置就是距离终点N米的位置。\n",
    "注意当N等于数组长度的时候，删除的是头结点，特殊处理一下这种情况即可。"
   ]
  },
  {
   "cell_type": "code",
   "execution_count": null,
   "id": "d0c4b74f",
   "metadata": {},
   "outputs": [],
   "source": []
  }
 ],
 "metadata": {
  "kernelspec": {
   "display_name": "Python 3 (ipykernel)",
   "language": "python",
   "name": "python3"
  },
  "language_info": {
   "codemirror_mode": {
    "name": "ipython",
    "version": 3
   },
   "file_extension": ".py",
   "mimetype": "text/x-python",
   "name": "python",
   "nbconvert_exporter": "python",
   "pygments_lexer": "ipython3",
   "version": "3.9.7"
  }
 },
 "nbformat": 4,
 "nbformat_minor": 5
}
