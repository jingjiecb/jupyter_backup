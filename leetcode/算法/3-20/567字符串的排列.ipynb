{
 "cells": [
  {
   "cell_type": "markdown",
   "id": "1b447503",
   "metadata": {},
   "source": [
    "给你两个字符串 s1 和 s2 ，写一个函数来判断 s2 是否包含 s1 的排列。如果是，返回 true ；否则，返回 false 。\n",
    "\n",
    "换句话说，s1 的排列之一是 s2 的 子串 。\n",
    "\n",
    " \n",
    "\n",
    "示例 1：\n",
    "\n",
    "输入：s1 = \"ab\" s2 = \"eidbaooo\"\n",
    "输出：true\n",
    "解释：s2 包含 s1 的排列之一 (\"ba\").\n",
    "\n",
    "示例 2：\n",
    "\n",
    "输入：s1= \"ab\" s2 = \"eidboaoo\"\n",
    "输出：false\n",
    " \n",
    "\n",
    "提示：\n",
    "\n",
    "1 <= s1.length, s2.length <= 104\n",
    "s1 和 s2 仅包含小写字母\n"
   ]
  },
  {
   "cell_type": "code",
   "execution_count": 1,
   "id": "a8822eab",
   "metadata": {},
   "outputs": [],
   "source": [
    "# 我的答案\n",
    "class Solution:\n",
    "    def checkInclusion(self, s1: str, s2: str) -> bool:\n",
    "        left, right = 0, 0\n",
    "        s1_li = list(s1)\n",
    "        length = len(s2)\n",
    "        while True:\n",
    "            while right < length and s2[right] in s1_li:\n",
    "                s1_li.remove(s2[right])\n",
    "                right += 1\n",
    "            if not s1_li:\n",
    "                return True\n",
    "            if right == length:\n",
    "                return False\n",
    "            while left < right and not s2[right] in s1_li:\n",
    "                s1_li += [s2[left]]\n",
    "                left += 1\n",
    "            if left == right:\n",
    "                right += 1\n",
    "                left += 1"
   ]
  },
  {
   "cell_type": "markdown",
   "id": "c21877c3",
   "metadata": {},
   "source": [
    "分析：本题可以使用滑动窗口的做法来完成。\n",
    "滑动窗口的精髓在于，用左右两个指针限定一块区域。如果满足条件就向右滑动直到区域内内容不满足，然后左指针向右移动直到条件再次满足。一曲一伸向前滑动\n",
    "另外，LeetCode的官方题解中还给出了一种固定长度窗口的思路。固定一个长度和s1相等的窗口，统计进出窗口的字符完成判断。用一个diff值协助进行判断，只要diff归零就说明达到了条件。"
   ]
  },
  {
   "cell_type": "code",
   "execution_count": null,
   "id": "6b407f38",
   "metadata": {},
   "outputs": [],
   "source": []
  }
 ],
 "metadata": {
  "kernelspec": {
   "display_name": "Python 3 (ipykernel)",
   "language": "python",
   "name": "python3"
  },
  "language_info": {
   "codemirror_mode": {
    "name": "ipython",
    "version": 3
   },
   "file_extension": ".py",
   "mimetype": "text/x-python",
   "name": "python",
   "nbconvert_exporter": "python",
   "pygments_lexer": "ipython3",
   "version": "3.9.7"
  }
 },
 "nbformat": 4,
 "nbformat_minor": 5
}
