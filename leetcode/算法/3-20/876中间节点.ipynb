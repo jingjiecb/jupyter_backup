{
 "cells": [
  {
   "cell_type": "markdown",
   "id": "fa29d50c",
   "metadata": {},
   "source": [
    "# 876 中间节点\n",
    "\n",
    "给定一个头结点为 head 的非空单链表，返回链表的中间结点。\n",
    "\n",
    "如果有两个中间结点，则返回第二个中间结点。\n",
    "\n",
    " \n",
    "\n",
    "示例 1：\n",
    "\n",
    "输入：[1,2,3,4,5]\n",
    "输出：此列表中的结点 3 (序列化形式：[3,4,5])\n",
    "返回的结点值为 3 。 (测评系统对该结点序列化表述是 [3,4,5])。\n",
    "注意，我们返回了一个 ListNode 类型的对象 ans，这样：\n",
    "ans.val = 3, ans.next.val = 4, ans.next.next.val = 5, 以及 ans.next.next.next = NULL.\n",
    "\n",
    "示例 2：\n",
    "\n",
    "输入：[1,2,3,4,5,6]\n",
    "输出：此列表中的结点 4 (序列化形式：[4,5,6])\n",
    "由于该列表有两个中间结点，值分别为 3 和 4，我们返回第二个结点。\n",
    " \n",
    "\n",
    "提示：\n",
    "\n",
    "给定链表的结点数介于 1 和 100 之间。"
   ]
  },
  {
   "cell_type": "code",
   "execution_count": 1,
   "id": "36006cb9",
   "metadata": {},
   "outputs": [],
   "source": [
    "# Definition for singly-linked list.\n",
    "class ListNode:\n",
    "    def __init__(self, val=0, next=None):\n",
    "        self.val = val\n",
    "        self.next = next\n",
    "\n",
    "\n",
    "class Solution:\n",
    "    def middleNode(self, head: ListNode) -> ListNode:\n",
    "        middle, tail = head, head\n",
    "        while(tail.next != None):\n",
    "            tail = tail.next\n",
    "            middle = middle.next\n",
    "            if (tail.next != None):\n",
    "                tail = tail.next\n",
    "            else:\n",
    "                break\n",
    "        return middle"
   ]
  },
  {
   "cell_type": "markdown",
   "id": "36f336e4",
   "metadata": {},
   "source": [
    "分析思路：找到中间节点的过程可以通过两个人赛跑的思路来解决。小明和小红赛跑，小明速度是小红的两倍，那么不管终点在哪，小明跑的终点的时候小红必定在中间位置。\n",
    "指定两个指针，一个移动速度是另一个的两倍。为了处理题目中偶数节点的问题，可以每轮采用 `tail移动-middle移动-tail移动` 的顺序进行。"
   ]
  },
  {
   "cell_type": "code",
   "execution_count": null,
   "id": "b6dc7cbc",
   "metadata": {},
   "outputs": [],
   "source": []
  }
 ],
 "metadata": {
  "kernelspec": {
   "display_name": "Python 3 (ipykernel)",
   "language": "python",
   "name": "python3"
  },
  "language_info": {
   "codemirror_mode": {
    "name": "ipython",
    "version": 3
   },
   "file_extension": ".py",
   "mimetype": "text/x-python",
   "name": "python",
   "nbconvert_exporter": "python",
   "pygments_lexer": "ipython3",
   "version": "3.9.7"
  }
 },
 "nbformat": 4,
 "nbformat_minor": 5
}
