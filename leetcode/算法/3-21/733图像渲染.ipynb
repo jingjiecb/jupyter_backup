{
 "cells": [
  {
   "cell_type": "markdown",
   "id": "6f0d71d9",
   "metadata": {},
   "source": [
    "有一幅以 m x n 的二维整数数组表示的图画 image ，其中 image[i][j] 表示该图画的像素值大小。\n",
    "\n",
    "你也被给予三个整数 sr ,  sc 和 newColor 。你应该从像素 image[sr][sc] 开始对图像进行 上色填充 。\n",
    "\n",
    "为了完成 上色工作 ，从初始像素开始，记录初始坐标的 上下左右四个方向上 像素值与初始坐标相同的相连像素点，接着再记录这四个方向上符合条件的像素点与他们对应 四个方向上 像素值与初始坐标相同的相连像素点，……，重复该过程。将所有有记录的像素点的颜色值改为 newColor 。\n",
    "\n",
    "最后返回 经过上色渲染后的图像 。\n",
    "\n",
    " \n",
    "\n",
    "示例 1:\n",
    "\n",
    "输入: image = [[1,1,1],[1,1,0],[1,0,1]]，sr = 1, sc = 1, newColor = 2\n",
    "输出: [[2,2,2],[2,2,0],[2,0,1]]\n",
    "解析: 在图像的正中间，(坐标(sr,sc)=(1,1)),在路径上所有符合条件的像素点的颜色都被更改成2。\n",
    "注意，右下角的像素没有更改为2，因为它不是在上下左右四个方向上与初始点相连的像素点。\n",
    "\n",
    "示例 2:\n",
    "\n",
    "输入: image = [[0,0,0],[0,0,0]], sr = 0, sc = 0, newColor = 2\n",
    "输出: [[2,2,2],[2,2,2]]"
   ]
  },
  {
   "cell_type": "code",
   "execution_count": 2,
   "id": "d980a4ed",
   "metadata": {},
   "outputs": [],
   "source": [
    "class Solution:\n",
    "    def floodFill(self, image: List[List[int]], sr: int, sc: int, newColor: int) -> List[List[int]]:\n",
    "        m, n = len(image), len(image[0])\n",
    "        processed = [[False]*n for _ in range(m)]\n",
    "\n",
    "        processed[sr][sc] = True\n",
    "        target_color = image[sr][sc]\n",
    "        image[sr][sc] = newColor\n",
    "        q = [(sr, sc)]\n",
    "        while q:\n",
    "            p0 = q.pop(0)\n",
    "            for p_ in [(p0[0],p0[1] + 1), (p0[0], p0[1] - 1),\n",
    "                      (p0[0] + 1, p0[1]), (p0[0] - 1, p0[1])]:\n",
    "                if 0 <= p_[0] <= (m - 1) and 0 <= p_[1] <= (n - 1) and not processed[p_[0]][p_[1]] and image[p_[0]][p_[1]] == target_color:\n",
    "                    processed[p_[0]][p_[1]] = True\n",
    "                    image[p_[0]][p_[1]] = newColor\n",
    "                    q += [p_]\n",
    "        return image"
   ]
  },
  {
   "cell_type": "markdown",
   "id": "23a1227a",
   "metadata": {},
   "source": [
    "分析：利用队列完成广度优先遍历即可。\n",
    "技巧：python中二维数组初始化的方法 processed = [[False]*n for _ in range(m)]\n",
    "python 中可以利用技巧 if 0<a<max 这种方式进行条件比较。"
   ]
  },
  {
   "cell_type": "markdown",
   "id": "3119f236",
   "metadata": {},
   "source": [
    "**注意**：广度（深度）优先遍历在使用的时候，一定要先处理并mark，然后再进队列，不然可能出现重复处理的情况。\n",
    "由此总结遍历的模板是：\n",
    "```python\n",
    "mark(init_p)\n",
    "process(init_p)\n",
    "q += [init_p]\n",
    "while q:\n",
    "    p_c = q.pop(0)\n",
    "    for p_ in p.nearby:\n",
    "        if 0<=x<m and 0<=y<n and not went and valid(p_):\n",
    "            mark(p_)\n",
    "            process(p_)\n",
    "            q += [p]\n",
    "```"
   ]
  },
  {
   "cell_type": "code",
   "execution_count": null,
   "id": "7c055ba3",
   "metadata": {},
   "outputs": [],
   "source": []
  }
 ],
 "metadata": {
  "kernelspec": {
   "display_name": "Python 3 (ipykernel)",
   "language": "python",
   "name": "python3"
  },
  "language_info": {
   "codemirror_mode": {
    "name": "ipython",
    "version": 3
   },
   "file_extension": ".py",
   "mimetype": "text/x-python",
   "name": "python",
   "nbconvert_exporter": "python",
   "pygments_lexer": "ipython3",
   "version": "3.9.7"
  }
 },
 "nbformat": 4,
 "nbformat_minor": 5
}
