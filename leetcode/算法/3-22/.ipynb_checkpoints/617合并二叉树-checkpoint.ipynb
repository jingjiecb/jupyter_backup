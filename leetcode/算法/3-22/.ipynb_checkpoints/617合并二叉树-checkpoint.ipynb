{
 "cells": [
  {
   "cell_type": "markdown",
   "id": "174e93a6",
   "metadata": {},
   "source": [
    "给你两棵二叉树： root1 和 root2 。\n",
    "\n",
    "想象一下，当你将其中一棵覆盖到另一棵之上时，两棵树上的一些节点将会重叠（而另一些不会）。你需要将这两棵树合并成一棵新二叉树。合并的规则是：如果两个节点重叠，那么将这两个节点的值相加作为合并后节点的新值；否则，不为 null 的节点将直接作为新二叉树的节点。\n",
    "\n",
    "返回合并后的二叉树。\n",
    "\n",
    "注意: 合并过程必须从两个树的根节点开始。\n"
   ]
  },
  {
   "cell_type": "code",
   "execution_count": 1,
   "id": "dbc6a28a",
   "metadata": {},
   "outputs": [],
   "source": [
    "# Definition for a binary tree node.\n",
    "class TreeNode:\n",
    "    def __init__(self, val=0, left=None, right=None):\n",
    "        self.val = val\n",
    "        self.left = left\n",
    "        self.right = right\n",
    "class Solution:\n",
    "    def mergeTrees(self, root1: TreeNode, root2: TreeNode) -> TreeNode:\n",
    "        if not root1:\n",
    "            return root2\n",
    "        if not root2:\n",
    "            return root1\n",
    "\n",
    "        root = TreeNode(root1.val + root2.val)\n",
    "        q1, q2, q = [], [], []\n",
    "        q1 += [root1]\n",
    "        q2 += [root2]\n",
    "        q += [root]\n",
    "\n",
    "        while q1:\n",
    "            n1, n2, n = q1.pop(0), q2.pop(0), q.pop(0)\n",
    "            if n1.left or n2.left:\n",
    "                if not n2.left:\n",
    "                    n.left = n1.left\n",
    "                elif not n1.left:\n",
    "                    n.left = n2.left\n",
    "                else:\n",
    "                    n.left = TreeNode(n1.left.val + n2.left.val)\n",
    "                    q1 += [n1.left]\n",
    "                    q2 += [n2.left]\n",
    "                    q += [n.left]\n",
    "            if n1.right or n2.right:\n",
    "                if not n2.right:\n",
    "                    n.right = n1.right\n",
    "                elif not n1.right:\n",
    "                    n.right = n2.right\n",
    "                else:\n",
    "                    n.right = TreeNode(n1.right.val + n2.right.val)\n",
    "                    q1 += [n1.right]\n",
    "                    q2 += [n2.right]\n",
    "                    q += [n.right]\n",
    "        return root"
   ]
  },
  {
   "cell_type": "markdown",
   "id": "df675b54",
   "metadata": {},
   "source": [
    "分析：本地应该是对两棵树进行同步的深度或者广度遍历即可解决。\n",
    "如果采用递归方法的深度优先遍历，思路较为清晰。但是通常在实际应用中使用递归可能导致爆栈，因此尽量采用非递归方式。\n",
    "非递归方法的难点在于，如何保证两棵树和形成的结果树在遍历过程中同步。最后发现解决的方法是，同时维护三个队列，用来遍历。每次对于队列中出来节点的处理措施是，对其左右子树进行分别处理\n",
    "由于这个题是数的遍历，不是图的遍历，因此可以不考虑mark，以及操作和入队的顺序问题。图的遍历需要考虑这两个问题。"
   ]
  }
 ],
 "metadata": {
  "kernelspec": {
   "display_name": "Python 3 (ipykernel)",
   "language": "python",
   "name": "python3"
  },
  "language_info": {
   "codemirror_mode": {
    "name": "ipython",
    "version": 3
   },
   "file_extension": ".py",
   "mimetype": "text/x-python",
   "name": "python",
   "nbconvert_exporter": "python",
   "pygments_lexer": "ipython3",
   "version": "3.9.7"
  }
 },
 "nbformat": 4,
 "nbformat_minor": 5
}
