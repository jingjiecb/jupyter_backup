{
 "cells": [
  {
   "cell_type": "markdown",
   "id": "9f519cab",
   "metadata": {},
   "source": [
    "给你一个大小为 m x n 的二进制矩阵 grid 。\n",
    "\n",
    "岛屿 是由一些相邻的 1 (代表土地) 构成的组合，这里的「相邻」要求两个 1 必须在 水平或者竖直的四个方向上 相邻。你可以假设 grid 的四个边缘都被 0（代表水）包围着。\n",
    "\n",
    "岛屿的面积是岛上值为 1 的单元格的数目。\n",
    "\n",
    "计算并返回 grid 中最大的岛屿面积。如果没有岛屿，则返回面积为 0 。"
   ]
  },
  {
   "cell_type": "code",
   "execution_count": 1,
   "id": "1e57a260",
   "metadata": {},
   "outputs": [],
   "source": [
    "# -*- coding: utf-8 -*-\n",
    "# @Time    : 2022/3/21 12:04\n",
    "# @Author  : claws\n",
    "# @File    : 695岛屿最大面积\n",
    "# @Software: PyCharm\n",
    "# @Description: 695岛屿最大面积\n",
    "\n",
    "from typing import List\n",
    "\n",
    "class Solution:\n",
    "    def maxAreaOfIsland(self, grid: List[List[int]]) -> int:\n",
    "        def get_current_area(x, y):\n",
    "            area = 0\n",
    "            q = []\n",
    "            if grid[x][y] == 1:\n",
    "                q += [(x, y)]\n",
    "                went[x][y] = True\n",
    "            while q:\n",
    "                x_current, y_current = q.pop(0)\n",
    "                area += 1\n",
    "                for x_, y_ in [(x_current + 1, y_current),(x_current - 1, y_current),(x_current, y_current + 1),(x_current, y_current - 1)]:\n",
    "                    if 0 <= x_ <= m - 1 and 0 <= y_ <= n - 1 and grid[x_][y_] == 1 and not went[x_][y_]:\n",
    "                        q += [(x_, y_)]\n",
    "                        went[x_][y_] = True\n",
    "            return area\n",
    "\n",
    "        m,n = len(grid), len(grid[0])\n",
    "        went = [[False]*n for _ in range(m)]\n",
    "        result = 0\n",
    "        for i in range(m):\n",
    "            for j in range(n):\n",
    "                if went[i][j]:\n",
    "                    continue\n",
    "                if grid[i][j] == 0:\n",
    "                    went[i][j] = True\n",
    "                else:\n",
    "                    result = max(result, get_current_area(i,j))\n",
    "        return result\n",
    "\n"
   ]
  },
  {
   "cell_type": "markdown",
   "id": "41eb89d1",
   "metadata": {},
   "source": [
    "分析：遍历每个点，采用深度（广度）遍历。\n",
    "注意上个题目中的遍历模板。一定要在节点入队之前处理并mark"
   ]
  },
  {
   "cell_type": "code",
   "execution_count": null,
   "id": "7267b5e1",
   "metadata": {},
   "outputs": [],
   "source": []
  }
 ],
 "metadata": {
  "kernelspec": {
   "display_name": "Python 3 (ipykernel)",
   "language": "python",
   "name": "python3"
  },
  "language_info": {
   "codemirror_mode": {
    "name": "ipython",
    "version": 3
   },
   "file_extension": ".py",
   "mimetype": "text/x-python",
   "name": "python",
   "nbconvert_exporter": "python",
   "pygments_lexer": "ipython3",
   "version": "3.9.7"
  }
 },
 "nbformat": 4,
 "nbformat_minor": 5
}
