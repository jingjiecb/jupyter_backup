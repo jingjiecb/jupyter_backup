{
 "cells": [
  {
   "cell_type": "markdown",
   "id": "9ebce795",
   "metadata": {},
   "source": [
    "给你单链表的头节点 head ，请你反转链表，并返回反转后的链表。"
   ]
  },
  {
   "cell_type": "code",
   "execution_count": 1,
   "id": "7205fcb7",
   "metadata": {},
   "outputs": [],
   "source": [
    "class ListNode:\n",
    "    def __init__(self, val=0, next=None):\n",
    "        self.val = val\n",
    "        self.next = next\n",
    "class Solution:\n",
    "    def reverseList(self, head: ListNode) -> ListNode:\n",
    "        if not head or not head.next:\n",
    "            return head\n",
    "        before_head = self.reverseList(head.next)\n",
    "        head.next.next = head\n",
    "        head.next = None\n",
    "        return before_head\n",
    "        \n",
    "class Solution2:\n",
    "    def reverseList(self, head: ListNode) -> ListNode:\n",
    "        stack = []\n",
    "        current = head\n",
    "        while current:\n",
    "            stack += [current]\n",
    "            current = current.next\n",
    "        head0 = ListNode()\n",
    "        current = head0\n",
    "        while stack:\n",
    "            current.next = stack.pop()\n",
    "            current = current.next\n",
    "        current.next = None\n",
    "        return head0.next"
   ]
  },
  {
   "cell_type": "markdown",
   "id": "a1feb7f7",
   "metadata": {},
   "source": [
    "分析：可以使用递归和非递归两种方法来写。\n",
    "如果使用递归的方法，就是考虑每次反转的时候用其子节点的结果反向接过来。注意不用去从头寻找子链表的尾巴，因为当前节点的next指向的其实就是这个尾巴节点。只需要反过来就可以了。\n",
    "可以用栈来代替递归写成迭代的方式。"
   ]
  }
 ],
 "metadata": {
  "kernelspec": {
   "display_name": "Python 3 (ipykernel)",
   "language": "python",
   "name": "python3"
  },
  "language_info": {
   "codemirror_mode": {
    "name": "ipython",
    "version": 3
   },
   "file_extension": ".py",
   "mimetype": "text/x-python",
   "name": "python",
   "nbconvert_exporter": "python",
   "pygments_lexer": "ipython3",
   "version": "3.9.7"
  }
 },
 "nbformat": 4,
 "nbformat_minor": 5
}
