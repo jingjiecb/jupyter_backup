{
 "cells": [
  {
   "cell_type": "markdown",
   "id": "b63f0a85",
   "metadata": {},
   "source": [
    "给定一个由 0 和 1 组成的矩阵 mat ，请输出一个大小相同的矩阵，其中每一个格子是 mat 中对应位置元素到最近的 0 的距离。\n",
    "\n",
    "两个相邻元素间的距离为 1 。"
   ]
  },
  {
   "cell_type": "code",
   "execution_count": 1,
   "id": "79252f16",
   "metadata": {},
   "outputs": [],
   "source": [
    "from typing import List\n",
    "\n",
    "class Solution:\n",
    "    def updateMatrix(self, mat: List[List[int]]) -> List[List[int]]:\n",
    "        def direction4(x, y):\n",
    "            d = [(x + 1, y), (x - 1, y), (x, y + 1), (x, y - 1)]\n",
    "            for i in d:\n",
    "                yield i\n",
    "\n",
    "        def valid(x, y):\n",
    "            return 0 <= x < m and 0 <= y < n\n",
    "\n",
    "        q = []\n",
    "        m, n = len(mat), len(mat[0])\n",
    "        res_mat = [[-1] * n for _ in range(m)]\n",
    "        for i in range(m):\n",
    "            for j in range(n):\n",
    "                if mat[i][j] == 0:\n",
    "                    q += [(i, j)]\n",
    "                    res_mat[i][j] = 0\n",
    "        while q:\n",
    "            x0, y0 = q.pop(0)\n",
    "            for x_, y_ in direction4(x0, y0):\n",
    "                if valid(x_, y_) and res_mat[x_][y_] == -1:\n",
    "                    res_mat[x_][y_] = res_mat[x0][y0] + 1\n",
    "                    q += [(x_, y_)]\n",
    "        return res_mat"
   ]
  },
  {
   "cell_type": "code",
   "execution_count": null,
   "id": "3022b3a8",
   "metadata": {},
   "outputs": [],
   "source": [
    "分析：重点是，可以一次将所有零加入队列，多起点的广度有限遍历"
   ]
  }
 ],
 "metadata": {
  "kernelspec": {
   "display_name": "Python 3 (ipykernel)",
   "language": "python",
   "name": "python3"
  },
  "language_info": {
   "codemirror_mode": {
    "name": "ipython",
    "version": 3
   },
   "file_extension": ".py",
   "mimetype": "text/x-python",
   "name": "python",
   "nbconvert_exporter": "python",
   "pygments_lexer": "ipython3",
   "version": "3.9.7"
  }
 },
 "nbformat": 4,
 "nbformat_minor": 5
}
