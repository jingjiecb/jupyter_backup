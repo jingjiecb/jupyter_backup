{
 "cells": [
  {
   "cell_type": "markdown",
   "id": "b38d741f",
   "metadata": {},
   "source": [
    "在给定的 m x n 网格 grid 中，每个单元格可以有以下三个值之一：\n",
    "\n",
    "值 0 代表空单元格；\n",
    "值 1 代表新鲜橘子；\n",
    "值 2 代表腐烂的橘子。\n",
    "每分钟，腐烂的橘子 周围 4 个方向上相邻 的新鲜橘子都会腐烂。\n",
    "\n",
    "返回 直到单元格中没有新鲜橘子为止所必须经过的最小分钟数。如果不可能，返回 -1 。\n",
    "\n",
    "来源：力扣（LeetCode）\n",
    "链接：https://leetcode-cn.com/problems/rotting-oranges\n",
    "著作权归领扣网络所有。商业转载请联系官方授权，非商业转载请注明出处。"
   ]
  },
  {
   "cell_type": "code",
   "execution_count": 3,
   "id": "c5f3b737",
   "metadata": {},
   "outputs": [],
   "source": [
    "from typing import List\n",
    "\n",
    "class Solution:\n",
    "    def orangesRotting(self, grid: List[List[int]]) -> int:\n",
    "        m, n = len(grid), len(grid[0])\n",
    "        distance = [[-1] * n for _ in range(m)]\n",
    "        max_distance = 0\n",
    "        total = 0\n",
    "        q = []\n",
    "        for i in range(m):\n",
    "            for j in range(n):\n",
    "                if grid[i][j] == 2:\n",
    "                    q += [(i, j)]\n",
    "                    distance[i][j] = 0\n",
    "                elif grid[i][j] == 1:\n",
    "                    total += 1\n",
    "        while q:\n",
    "            x0, y0 = q.pop(0)\n",
    "            for x_, y_ in [(x0 + 1, y0), (x0 - 1, y0), (x0, y0 + 1), (x0, y0 - 1)]:\n",
    "                if 0<= x_ < m and 0<= y_ < n and distance[x_][y_] == -1 and grid[x_][y_] == 1:\n",
    "                    total -= 1\n",
    "                    distance[x_][y_] = distance[x0][y0] + 1\n",
    "                    max_distance = max(max_distance, distance[x_][y_])\n",
    "                    q += [(x_, y_)]\n",
    "        if total > 0:\n",
    "            return -1\n",
    "        else:\n",
    "            return max_distance"
   ]
  },
  {
   "cell_type": "markdown",
   "id": "958ca24d",
   "metadata": {},
   "source": [
    "分析：本题和上一题的01矩阵一样，都属于多起点的广度有限遍历。"
   ]
  },
  {
   "cell_type": "code",
   "execution_count": null,
   "id": "5b86b985",
   "metadata": {},
   "outputs": [],
   "source": []
  }
 ],
 "metadata": {
  "kernelspec": {
   "display_name": "Python 3 (ipykernel)",
   "language": "python",
   "name": "python3"
  },
  "language_info": {
   "codemirror_mode": {
    "name": "ipython",
    "version": 3
   },
   "file_extension": ".py",
   "mimetype": "text/x-python",
   "name": "python",
   "nbconvert_exporter": "python",
   "pygments_lexer": "ipython3",
   "version": "3.9.7"
  }
 },
 "nbformat": 4,
 "nbformat_minor": 5
}
