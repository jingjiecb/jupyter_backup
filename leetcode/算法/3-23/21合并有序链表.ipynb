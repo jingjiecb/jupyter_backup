{
 "cells": [
  {
   "cell_type": "markdown",
   "id": "cc5a9edc",
   "metadata": {},
   "source": [
    "将两个升序链表合并为一个新的 升序 链表并返回。新链表是通过拼接给定的两个链表的所有节点组成的。 "
   ]
  },
  {
   "cell_type": "code",
   "execution_count": 4,
   "id": "25f17c07",
   "metadata": {},
   "outputs": [],
   "source": [
    "from typing import List\n",
    "from typing import Optional\n",
    "\n",
    "# Definition for singly-linked list.\n",
    "class ListNode:\n",
    "    def __init__(self, val=0, next=None):\n",
    "        self.val = val\n",
    "        self.next = next\n",
    "        \n",
    "class Solution:\n",
    "    def mergeTwoLists(self, list1: Optional[ListNode], list2: Optional[ListNode]) -> Optional[ListNode]:\n",
    "        result_root = ListNode()\n",
    "        current_node = result_root\n",
    "        while list1 and list2:\n",
    "            if list1.val < list2.val:\n",
    "                current_node.next = list1\n",
    "                list1 = list1.next\n",
    "            else:\n",
    "                current_node.next = list2\n",
    "                list2= list2.next\n",
    "            current_node = current_node.next\n",
    "        if not list1:\n",
    "            current_node.next = list2\n",
    "        else:\n",
    "            current_node.next = list1\n",
    "        return result_root.next"
   ]
  },
  {
   "cell_type": "markdown",
   "id": "04faaf50",
   "metadata": {},
   "source": [
    "分析：本题有一个处理技巧就是在开头放一个空的头结点。"
   ]
  },
  {
   "cell_type": "code",
   "execution_count": null,
   "id": "3fcb1a05",
   "metadata": {},
   "outputs": [],
   "source": []
  }
 ],
 "metadata": {
  "kernelspec": {
   "display_name": "Python 3 (ipykernel)",
   "language": "python",
   "name": "python3"
  },
  "language_info": {
   "codemirror_mode": {
    "name": "ipython",
    "version": 3
   },
   "file_extension": ".py",
   "mimetype": "text/x-python",
   "name": "python",
   "nbconvert_exporter": "python",
   "pygments_lexer": "ipython3",
   "version": "3.9.7"
  }
 },
 "nbformat": 4,
 "nbformat_minor": 5
}
