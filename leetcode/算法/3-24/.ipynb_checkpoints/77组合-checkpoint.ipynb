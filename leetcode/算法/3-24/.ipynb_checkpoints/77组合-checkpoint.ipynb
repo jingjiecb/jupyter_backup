{
 "cells": [
  {
   "cell_type": "markdown",
   "id": "aa3c3a93",
   "metadata": {},
   "source": [
    "给定两个整数 n 和 k，返回范围 [1, n] 中所有可能的 k 个数的组合。\n",
    "\n",
    "你可以按 任何顺序 返回答案。"
   ]
  },
  {
   "cell_type": "code",
   "execution_count": 2,
   "id": "1550d7b9",
   "metadata": {},
   "outputs": [],
   "source": [
    "from typing import List\n",
    "class Solution:\n",
    "    def combine(self, n: int, k: int) -> List[List[int]]:\n",
    "        temp = list(range(1, k + 1))\n",
    "        temp += [n + 1]\n",
    "        result = []\n",
    "        while True:\n",
    "            j = 0\n",
    "            result += [temp[:k]]\n",
    "            while j < k and temp[j + 1] == temp[j] + 1:\n",
    "                j += 1\n",
    "            if j == k:\n",
    "                break\n",
    "            temp[j] += 1\n",
    "            for i in range(j):\n",
    "                temp[i] = i + 1\n",
    "        return result"
   ]
  },
  {
   "cell_type": "code",
   "execution_count": 3,
   "id": "0ad6c068",
   "metadata": {},
   "outputs": [],
   "source": [
    "class Solution2:\n",
    "    def combine(self, n: int, k: int) -> List[List[int]]:\n",
    "        if k <= 0:\n",
    "            return [[]]\n",
    "        result = []\n",
    "        for i in range(n, k - 1, -1):\n",
    "            result += list(map(lambda x:[i] + x, self.combine(i - 1, k - 1)))\n",
    "        return result"
   ]
  },
  {
   "cell_type": "code",
   "execution_count": 4,
   "id": "12d5a56e",
   "metadata": {},
   "outputs": [],
   "source": [
    "class Solution3:\n",
    "    def combine(self, n:int, k:int) -> List[List[int]]:\n",
    "        return list(map(list,itertools.combinations(range(1, n + 1), k)))"
   ]
  },
  {
   "cell_type": "markdown",
   "id": "abe185c9",
   "metadata": {},
   "source": [
    "分析：本题是所有组合类问题的基础问题，非常重要。总体分为两种解法：递归和非递归。\n",
    "\n",
    "递归方法：每次要做的就是去当前列表中的一个值，然后再从剩下的列表中去 k-1 个值，变成combine(i - 1, k - 1)的子问题。\n",
    "\n",
    "非递归方法：此方法较为难理解。理解上，实际上就是按照字典序列举所有含k个1的二进制序列串。\n",
    "\n",
    "实现上：使用一个temp数组记录现在组合挑出的下标，最后放一个值为 n+1 的哨兵。每次找第一个1串后面的0，判定方法是 temp[j + 1] != temp[j] + 1。然后将第j个下标加1，之后将j前面的所有下标从0重置。\n",
    "当发现 j==k 时标志着所有 j 前面的已经达到了字典序的最大，结束递归。"
   ]
  },
  {
   "cell_type": "code",
   "execution_count": null,
   "id": "f5fc6d8f",
   "metadata": {},
   "outputs": [],
   "source": []
  }
 ],
 "metadata": {
  "kernelspec": {
   "display_name": "Python 3 (ipykernel)",
   "language": "python",
   "name": "python3"
  },
  "language_info": {
   "codemirror_mode": {
    "name": "ipython",
    "version": 3
   },
   "file_extension": ".py",
   "mimetype": "text/x-python",
   "name": "python",
   "nbconvert_exporter": "python",
   "pygments_lexer": "ipython3",
   "version": "3.9.7"
  }
 },
 "nbformat": 4,
 "nbformat_minor": 5
}
