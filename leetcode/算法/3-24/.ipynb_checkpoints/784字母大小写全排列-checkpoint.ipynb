{
 "cells": [
  {
   "cell_type": "markdown",
   "id": "de91ba61",
   "metadata": {},
   "source": [
    "给定一个字符串 s ，通过将字符串 s 中的每个字母转变大小写，我们可以获得一个新的字符串。\n",
    "\n",
    "返回 所有可能得到的字符串集合 。以 任意顺序 返回输出。\n",
    "\n",
    " \n",
    "\n",
    "示例 1：\n",
    "\n",
    "输入：s = \"a1b2\"\n",
    "输出：[\"a1b2\", \"a1B2\", \"A1b2\", \"A1B2\"]\n",
    "\n",
    "示例 2:\n",
    "\n",
    "输入: s = \"3z4\"\n",
    "输出: [\"3z4\",\"3Z4\"]\n",
    " \n",
    "\n",
    "提示:\n",
    "\n",
    "1 <= s.length <= 12\n",
    "s 由小写英文字母、大写英文字母和数字组成\n",
    "\n",
    "来源：力扣（LeetCode）\n",
    "链接：https://leetcode-cn.com/problems/letter-case-permutation\n",
    "著作权归领扣网络所有。商业转载请联系官方授权，非商业转载请注明出处。"
   ]
  },
  {
   "cell_type": "code",
   "execution_count": 1,
   "id": "b0b7894e",
   "metadata": {},
   "outputs": [],
   "source": [
    "from typing import List\n",
    "\n",
    "class Solution:\n",
    "    def letterCasePermutation(self, s: str) -> List[str]:\n",
    "        result = ['']\n",
    "        for c in s:\n",
    "            l = len(result)\n",
    "            if c.isalpha():\n",
    "                for i in range(l):\n",
    "                    result.append(result[i] + c.lower())\n",
    "                    result[i] += c.upper()\n",
    "            else:\n",
    "                for i in range(l):\n",
    "                    result[i] += c\n",
    "        return result"
   ]
  },
  {
   "cell_type": "code",
   "execution_count": 2,
   "id": "0ded2b38",
   "metadata": {},
   "outputs": [],
   "source": [
    "class Solution2:\n",
    "    def letterCasePermutation(self, s: str) -> List[str]:\n",
    "        result = []\n",
    "        before = ''\n",
    "        i = 0\n",
    "        changed = False\n",
    "        for i in range(len(s)):\n",
    "            if s[i].isalpha():\n",
    "                before = [s[:i] + s[i].upper(), s[:i] + s[i].lower()]\n",
    "                changed = True\n",
    "                break\n",
    "        if not changed:\n",
    "            result += [s]\n",
    "        else:\n",
    "            for after in self.letterCasePermutation(s[i+1:]):\n",
    "                result += list(map(lambda x: x + after, before))\n",
    "        return result"
   ]
  },
  {
   "cell_type": "code",
   "execution_count": 3,
   "id": "8b76072f",
   "metadata": {},
   "outputs": [],
   "source": [
    "class Solution3():\n",
    "    def letterCasePermutation(self, S):\n",
    "        f = lambda x: (x.lower(), x.upper()) if x.isalpha() else x\n",
    "        return list(map(\"\".join, itertools.product(*map(f, S))))"
   ]
  },
  {
   "cell_type": "code",
   "execution_count": null,
   "id": "4528a5bc",
   "metadata": {},
   "outputs": [],
   "source": [
    "分析：属于笛卡尔积类型的排列。\n",
    "今天的三道题分别覆盖了 排列 组合 笛卡尔积，非常全面。\n",
    "本题的三种解法：递归，即遇到字母后将该字母取出，然后拼接在所有后面字符串的“字母大小全排列”前面。\n",
    "迭代：从头到尾扫描，如果碰到字母就向结果集里面添加含有该字母大小写两个版本的字符串，数字直接拼接在所有结果后面。\n",
    "库函数：使用itertools.product库，如果能在笔试中用到这个库可以说大有帮助。"
   ]
  }
 ],
 "metadata": {
  "kernelspec": {
   "display_name": "Python 3 (ipykernel)",
   "language": "python",
   "name": "python3"
  },
  "language_info": {
   "codemirror_mode": {
    "name": "ipython",
    "version": 3
   },
   "file_extension": ".py",
   "mimetype": "text/x-python",
   "name": "python",
   "nbconvert_exporter": "python",
   "pygments_lexer": "ipython3",
   "version": "3.9.7"
  }
 },
 "nbformat": 4,
 "nbformat_minor": 5
}
