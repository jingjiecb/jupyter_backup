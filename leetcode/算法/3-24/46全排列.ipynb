{
 "cells": [
  {
   "cell_type": "markdown",
   "id": "2efc1040",
   "metadata": {},
   "source": [
    "给定一个不含重复数字的数组 nums ，返回其 所有可能的全排列 。你可以 按任意顺序 返回答案。"
   ]
  },
  {
   "cell_type": "code",
   "execution_count": 1,
   "id": "2f2d8276",
   "metadata": {},
   "outputs": [],
   "source": [
    "from typing import List\n",
    "\n",
    "class Solution:\n",
    "    def permute(self, nums: List[int]) -> List[List[int]]:\n",
    "        if not nums:\n",
    "            return [[]]\n",
    "        result = []\n",
    "        for i in range(len(nums)):\n",
    "            for num_group in self.permute(nums[:i] + nums[i + 1:]):\n",
    "                result += [[nums[i]] + num_group]\n",
    "        return result\n",
    "    "
   ]
  },
  {
   "cell_type": "markdown",
   "id": "a0d210bf",
   "metadata": {},
   "source": [
    "分析：使用递归方法完成"
   ]
  },
  {
   "cell_type": "code",
   "execution_count": 2,
   "id": "4a3096f1",
   "metadata": {},
   "outputs": [],
   "source": [
    "class Solution2:\n",
    "    def permute(self, nums: List[int]) -> List[List[int]]:\n",
    "        return list(itertools.permutations(nums))"
   ]
  },
  {
   "cell_type": "code",
   "execution_count": null,
   "id": "172fa728",
   "metadata": {},
   "outputs": [],
   "source": []
  }
 ],
 "metadata": {
  "kernelspec": {
   "display_name": "Python 3 (ipykernel)",
   "language": "python",
   "name": "python3"
  },
  "language_info": {
   "codemirror_mode": {
    "name": "ipython",
    "version": 3
   },
   "file_extension": ".py",
   "mimetype": "text/x-python",
   "name": "python",
   "nbconvert_exporter": "python",
   "pygments_lexer": "ipython3",
   "version": "3.9.7"
  }
 },
 "nbformat": 4,
 "nbformat_minor": 5
}
