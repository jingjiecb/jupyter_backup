{
 "cells": [
  {
   "cell_type": "markdown",
   "id": "c4dd28af",
   "metadata": {},
   "source": [
    "给定一个三角形 triangle ，找出自顶向下的最小路径和。\n",
    "\n",
    "每一步只能移动到下一行中相邻的结点上。相邻的结点 在这里指的是 下标 与 上一层结点下标 相同或者等于 上一层结点下标 + 1 的两个结点。也就是说，如果正位于当前行的下标 i ，那么下一步可以移动到下一行的下标 i 或 i + 1 。\n",
    "\n",
    "来源：力扣（LeetCode）\n",
    "链接：https://leetcode-cn.com/problems/triangle\n",
    "著作权归领扣网络所有。商业转载请联系官方授权，非商业转载请注明出处。"
   ]
  },
  {
   "cell_type": "code",
   "execution_count": 2,
   "id": "46afd95c",
   "metadata": {},
   "outputs": [],
   "source": [
    "from typing import List\n",
    "\n",
    "class Solution:\n",
    "    def minimumTotal(self, triangle: List[List[int]]) -> int:\n",
    "        n = len(triangle)\n",
    "        dp = [[float('inf')] * n for _ in range(n)]\n",
    "        dp[0][0] = triangle[0][0]\n",
    "        for i in range(1, n):\n",
    "            for j in range(i + 1):\n",
    "                if j == 0:\n",
    "                    dp[i][j] = dp[i - 1][0] + triangle[i][0]\n",
    "                # if j == i:\n",
    "                #     dp[i][j] = dp[i - 1][i - 1] + triangle[i][i]\n",
    "                else:\n",
    "                    dp[i][j] = min(dp[i - 1][j - 1], dp[i - 1][j]) + triangle[i][j]\n",
    "        return int(min(dp[n - 1]))"
   ]
  },
  {
   "cell_type": "markdown",
   "id": "24a9b7a6",
   "metadata": {},
   "source": [
    "分析：从顶端到达每一层每一个数字所需要的最小距离可以分解为到达上一层的两个相邻数字最小距离的最小值再加上这个数字本身。\n",
    "因此可以用动态规划法，记录到达第i层第j个数字的最小路径和。递归的终止条件是第一层第一个数字的最小路径就是他本身。"
   ]
  },
  {
   "cell_type": "code",
   "execution_count": null,
   "id": "814e58a2",
   "metadata": {},
   "outputs": [],
   "source": []
  }
 ],
 "metadata": {
  "kernelspec": {
   "display_name": "Python 3 (ipykernel)",
   "language": "python",
   "name": "python3"
  },
  "language_info": {
   "codemirror_mode": {
    "name": "ipython",
    "version": 3
   },
   "file_extension": ".py",
   "mimetype": "text/x-python",
   "name": "python",
   "nbconvert_exporter": "python",
   "pygments_lexer": "ipython3",
   "version": "3.9.7"
  }
 },
 "nbformat": 4,
 "nbformat_minor": 5
}
