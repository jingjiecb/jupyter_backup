{
 "cells": [
  {
   "cell_type": "markdown",
   "id": "0a1ccf91",
   "metadata": {},
   "source": [
    "你是一个专业的小偷，计划偷窃沿街的房屋。每间房内都藏有一定的现金，影响你偷窃的唯一制约因素就是相邻的房屋装有相互连通的防盗系统，如果两间相邻的房屋在同一晚上被小偷闯入，系统会自动报警。\n",
    "\n",
    "给定一个代表每个房屋存放金额的非负整数数组，计算你 不触动警报装置的情况下 ，一夜之内能够偷窃到的最高金额。\n",
    "\n",
    " \n",
    "\n",
    "来源：力扣（LeetCode）\n",
    "链接：https://leetcode-cn.com/problems/house-robber\n",
    "著作权归领扣网络所有。商业转载请联系官方授权，非商业转载请注明出处。"
   ]
  },
  {
   "cell_type": "code",
   "execution_count": 2,
   "id": "efbd11b3",
   "metadata": {},
   "outputs": [],
   "source": [
    "from typing import List\n",
    "\n",
    "class Solution:\n",
    "    def rob(self, nums: List[int]) -> int:\n",
    "        dp = []\n",
    "        n = len(nums)\n",
    "        for i in range(n + 1):\n",
    "            if i == 0:\n",
    "               dp.append(0)\n",
    "            elif i == 1:\n",
    "                dp.append(nums[0])\n",
    "            else:\n",
    "                select1 = dp[i - 1]\n",
    "                select2 = dp[i - 2] + nums[i - 1]\n",
    "                dp.append(max(select1, select2))\n",
    "        return dp[n]"
   ]
  },
  {
   "cell_type": "markdown",
   "id": "42cad404",
   "metadata": {},
   "source": [
    "分析：\n",
    "每次要么是不偷当前这家，那么总金额等于以前所有家的最大金额；要么是偷当前家，但是上一家就不能偷了，等于当前家加上上上家之前的所有打劫金额。\n",
    "\n",
    "动态规划问题的关键就是，根据对当前出现的新元素的处理，将问题分解为两个（多个）子问题，每个问题在之前都解决过一次，可以直接使用记录好的结果。"
   ]
  },
  {
   "cell_type": "code",
   "execution_count": null,
   "id": "a9779424",
   "metadata": {},
   "outputs": [],
   "source": []
  }
 ],
 "metadata": {
  "kernelspec": {
   "display_name": "Python 3 (ipykernel)",
   "language": "python",
   "name": "python3"
  },
  "language_info": {
   "codemirror_mode": {
    "name": "ipython",
    "version": 3
   },
   "file_extension": ".py",
   "mimetype": "text/x-python",
   "name": "python",
   "nbconvert_exporter": "python",
   "pygments_lexer": "ipython3",
   "version": "3.9.7"
  }
 },
 "nbformat": 4,
 "nbformat_minor": 5
}
