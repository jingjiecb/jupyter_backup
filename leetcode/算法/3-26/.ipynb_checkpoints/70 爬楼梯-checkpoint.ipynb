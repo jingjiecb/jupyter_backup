{
 "cells": [
  {
   "cell_type": "markdown",
   "id": "ad6e9167",
   "metadata": {},
   "source": [
    "假设你正在爬楼梯。需要 n 阶你才能到达楼顶。\n",
    "\n",
    "每次你可以爬 1 或 2 个台阶。你有多少种不同的方法可以爬到楼顶呢？"
   ]
  },
  {
   "cell_type": "code",
   "execution_count": 1,
   "id": "e85d4529",
   "metadata": {},
   "outputs": [],
   "source": [
    "class Solution:\n",
    "    def climbStairs(self, n: int) -> int:\n",
    "        dp = []\n",
    "        for i in range(n + 1):\n",
    "            if i in [0, 1]:\n",
    "                dp.append(1)\n",
    "            else:\n",
    "                dp.append(dp[i - 1] + dp[i - 2])\n",
    "        return dp[n]"
   ]
  },
  {
   "cell_type": "markdown",
   "id": "fe099609",
   "metadata": {},
   "source": [
    "分析：动态规划，用数组记录之前两次的结果即可。\n",
    "每次爬楼梯，要么上一步是一步上来的，要么上一步是两步上来的。\n"
   ]
  }
 ],
 "metadata": {
  "kernelspec": {
   "display_name": "Python 3 (ipykernel)",
   "language": "python",
   "name": "python3"
  },
  "language_info": {
   "codemirror_mode": {
    "name": "ipython",
    "version": 3
   },
   "file_extension": ".py",
   "mimetype": "text/x-python",
   "name": "python",
   "nbconvert_exporter": "python",
   "pygments_lexer": "ipython3",
   "version": "3.9.7"
  }
 },
 "nbformat": 4,
 "nbformat_minor": 5
}
