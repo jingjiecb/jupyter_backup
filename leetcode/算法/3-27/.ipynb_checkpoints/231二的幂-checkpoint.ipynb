{
 "cells": [
  {
   "cell_type": "markdown",
   "id": "a55f39ed",
   "metadata": {},
   "source": [
    "给你一个整数 n，请你判断该整数是否是 2 的幂次方。如果是，返回 true ；否则，返回 false 。\n",
    "\n",
    "如果存在一个整数 x 使得 n == 2x ，则认为 n 是 2 的幂次方。\n",
    "\n",
    " \n",
    "\n",
    "来源：力扣（LeetCode）\n",
    "链接：https://leetcode-cn.com/problems/power-of-two\n",
    "著作权归领扣网络所有。商业转载请联系官方授权，非商业转载请注明出处。"
   ]
  },
  {
   "cell_type": "code",
   "execution_count": 1,
   "id": "b37ddf22",
   "metadata": {},
   "outputs": [],
   "source": [
    "class Solution:\n",
    "    def isPowerOfTwo(self, n: int) -> bool:\n",
    "        return n > 0 and (n & (n - 1)) == 0"
   ]
  },
  {
   "cell_type": "markdown",
   "id": "7fe9be56",
   "metadata": {},
   "source": [
    "分析：本题中可以使用一个特别的技巧：n & n - 1的操作就可以将n中的最后一位1去除。如果去除一位1之后的数字是0，那么这就是2的幂。"
   ]
  },
  {
   "cell_type": "code",
   "execution_count": null,
   "id": "c7e2d837",
   "metadata": {},
   "outputs": [],
   "source": []
  }
 ],
 "metadata": {
  "kernelspec": {
   "display_name": "Python 3 (ipykernel)",
   "language": "python",
   "name": "python3"
  },
  "language_info": {
   "codemirror_mode": {
    "name": "ipython",
    "version": 3
   },
   "file_extension": ".py",
   "mimetype": "text/x-python",
   "name": "python",
   "nbconvert_exporter": "python",
   "pygments_lexer": "ipython3",
   "version": "3.9.7"
  }
 },
 "nbformat": 4,
 "nbformat_minor": 5
}
