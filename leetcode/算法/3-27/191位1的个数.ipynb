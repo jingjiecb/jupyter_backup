{
 "cells": [
  {
   "cell_type": "markdown",
   "id": "0b822f41",
   "metadata": {},
   "source": [
    "编写一个函数，输入是一个无符号整数（以二进制串的形式），返回其二进制表达式中数字位数为 '1' 的个数（也被称为汉明重量）。\n",
    "\n",
    " \n",
    "\n",
    "提示：\n",
    "\n",
    "请注意，在某些语言（如 Java）中，没有无符号整数类型。在这种情况下，输入和输出都将被指定为有符号整数类型，并且不应影响您的实现，因为无论整数是有符号的还是无符号的，其内部的二进制表示形式都是相同的。\n",
    "在 Java 中，编译器使用二进制补码记法来表示有符号整数。因此，在上面的 示例 3 中，输入表示有符号整数 -3。\n",
    " \n",
    "\n",
    "来源：力扣（LeetCode）\n",
    "链接：https://leetcode-cn.com/problems/number-of-1-bits\n",
    "著作权归领扣网络所有。商业转载请联系官方授权，非商业转载请注明出处。"
   ]
  },
  {
   "cell_type": "code",
   "execution_count": 2,
   "id": "e2fbacd4",
   "metadata": {},
   "outputs": [],
   "source": [
    "class Solution:\n",
    "    def hammingWeight(self, n: int) -> int:\n",
    "        num_1 = 0\n",
    "        while n != 0:\n",
    "            n &= n - 1\n",
    "            num_1 += 1\n",
    "        return num_1\n"
   ]
  },
  {
   "cell_type": "markdown",
   "id": "7f9aacbe",
   "metadata": {},
   "source": [
    "分析：可以用上一个题（判断是否是2的幂）中的思路，n & (n - 1)就可以去掉n中的最后一位1。\n",
    "\n",
    "可以循环从n中去掉1，直到n==0.这个技巧不仅适用于n是正数，同样适用于n为负数的时候。"
   ]
  },
  {
   "cell_type": "code",
   "execution_count": null,
   "id": "f643e590",
   "metadata": {},
   "outputs": [],
   "source": []
  }
 ],
 "metadata": {
  "kernelspec": {
   "display_name": "Python 3 (ipykernel)",
   "language": "python",
   "name": "python3"
  },
  "language_info": {
   "codemirror_mode": {
    "name": "ipython",
    "version": 3
   },
   "file_extension": ".py",
   "mimetype": "text/x-python",
   "name": "python",
   "nbconvert_exporter": "python",
   "pygments_lexer": "ipython3",
   "version": "3.9.7"
  }
 },
 "nbformat": 4,
 "nbformat_minor": 5
}
