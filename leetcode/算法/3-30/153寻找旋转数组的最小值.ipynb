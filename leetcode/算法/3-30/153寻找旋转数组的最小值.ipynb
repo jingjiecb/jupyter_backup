{
 "cells": [
  {
   "cell_type": "markdown",
   "id": "9cb282da",
   "metadata": {},
   "source": [
    "已知一个长度为 n 的数组，预先按照升序排列，经由 1 到 n 次 旋转 后，得到输入数组。例如，原数组 nums = [0,1,2,4,5,6,7] 在变化后可能得到：\n",
    "若旋转 4 次，则可以得到 [4,5,6,7,0,1,2]\n",
    "若旋转 7 次，则可以得到 [0,1,2,4,5,6,7]\n",
    "注意，数组 [a[0], a[1], a[2], ..., a[n-1]] 旋转一次 的结果为数组 [a[n-1], a[0], a[1], a[2], ..., a[n-2]] 。\n",
    "\n",
    "给你一个元素值 互不相同 的数组 nums ，它原来是一个升序排列的数组，并按上述情形进行了多次旋转。请你找出并返回数组中的 最小元素 。\n",
    "\n",
    "你必须设计一个时间复杂度为 O(log n) 的算法解决此问题。\n",
    "\n",
    "来源：力扣（LeetCode）\n",
    "链接：https://leetcode-cn.com/problems/find-minimum-in-rotated-sorted-array\n",
    "著作权归领扣网络所有。商业转载请联系官方授权，非商业转载请注明出处。"
   ]
  },
  {
   "cell_type": "code",
   "execution_count": 3,
   "id": "9d37ea85",
   "metadata": {},
   "outputs": [],
   "source": [
    "from typing import List\n",
    "\n",
    "class Solution:\n",
    "    def findMin(self, nums: List[int]) -> int:\n",
    "        n = len(nums)\n",
    "        left, right = 0 , n - 1\n",
    "        while left <= right:\n",
    "            if nums[left] <= nums[right]:\n",
    "                break\n",
    "            middle = (left + right) // 2\n",
    "            if nums[middle] >= nums[left]:\n",
    "                left = middle + 1\n",
    "            else:\n",
    "                right = middle\n",
    "        return nums[left]\n"
   ]
  },
  {
   "cell_type": "markdown",
   "id": "46365c54",
   "metadata": {},
   "source": [
    "分析：只要找到一个范围，在这个范围中最左边的值比最右边的值小就可以了，这个时候直接返回左边的值就是所要的答案。\n",
    "\n",
    "在缩小范围的时候注意左右可能不对称，如果取的中值比左值大或者相等，说明最小的值一定在该中值右侧；但是如果取的中值比左值小，那么可能最小值是"
   ]
  }
 ],
 "metadata": {
  "kernelspec": {
   "display_name": "Python 3 (ipykernel)",
   "language": "python",
   "name": "python3"
  },
  "language_info": {
   "codemirror_mode": {
    "name": "ipython",
    "version": 3
   },
   "file_extension": ".py",
   "mimetype": "text/x-python",
   "name": "python",
   "nbconvert_exporter": "python",
   "pygments_lexer": "ipython3",
   "version": "3.9.7"
  }
 },
 "nbformat": 4,
 "nbformat_minor": 5
}
