{
 "cells": [
  {
   "cell_type": "markdown",
   "id": "7d4bf3e4",
   "metadata": {},
   "source": [
    "给你一个包含 n 个整数的数组 nums，判断 nums 中是否存在三个元素 a，b，c ，使得 a + b + c = 0 ？请你找出所有和为 0 且不重复的三元组。\n",
    "\n",
    "注意：答案中不可以包含重复的三元组。\n",
    "\n",
    "\n",
    "\n",
    "来源：力扣（LeetCode）\n",
    "链接：https://leetcode-cn.com/problems/3sum\n",
    "著作权归领扣网络所有。商业转载请联系官方授权，非商业转载请注明出处。"
   ]
  },
  {
   "cell_type": "code",
   "execution_count": 2,
   "id": "508555ab",
   "metadata": {},
   "outputs": [],
   "source": [
    "from typing import List\n",
    "\n",
    "class Solution:\n",
    "    def threeSum(self, nums: List[int]) -> List[List[int]]:\n",
    "        nums.sort()\n",
    "        n = len(nums)\n",
    "        l, m, r = 0, 0, 0\n",
    "        a, b, c = 0, 0, 0\n",
    "        results = []\n",
    "        for l in range(n - 2):\n",
    "            if l != 0 and nums[l] == a:\n",
    "                continue\n",
    "            a = nums[l] \n",
    "            m, r = l + 1, n - 1\n",
    "            while m < r:\n",
    "                b, c = nums[m], nums[r]\n",
    "                if a + b + c == 0:\n",
    "                    results += [[a, b, c]]\n",
    "                    while m < r and nums[m] == b:\n",
    "                        m += 1\n",
    "                elif a + b + c < 0:\n",
    "                    while m < r and nums[m] == b:\n",
    "                        m += 1\n",
    "                else:\n",
    "                    while m < r and nums[r] == c:\n",
    "                        r -= 1\n",
    "        return results"
   ]
  },
  {
   "cell_type": "markdown",
   "id": "ebd8d798",
   "metadata": {},
   "source": [
    "分析：如果用三重循环枚举所有可能的组合那就是On3复杂度。可以用排序+双指针的方法将算法优化到On2复杂度。先排序，然后a遍历数组（注意去重，如果和上次的a相同就continue），之后指定两个指针在a后面的数字中分别指向头部和尾部。如果三数之和<0，就将左边的指针向右移动，否则就将右边的指针向左移动，直到找到和为"
   ]
  }
 ],
 "metadata": {
  "kernelspec": {
   "display_name": "Python 3 (ipykernel)",
   "language": "python",
   "name": "python3"
  },
  "language_info": {
   "codemirror_mode": {
    "name": "ipython",
    "version": 3
   },
   "file_extension": ".py",
   "mimetype": "text/x-python",
   "name": "python",
   "nbconvert_exporter": "python",
   "pygments_lexer": "ipython3",
   "version": "3.9.7"
  }
 },
 "nbformat": 4,
 "nbformat_minor": 5
}
