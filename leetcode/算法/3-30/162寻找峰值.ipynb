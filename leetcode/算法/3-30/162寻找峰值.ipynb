{
 "cells": [
  {
   "cell_type": "markdown",
   "id": "03092678",
   "metadata": {},
   "source": [
    "峰值元素是指其值严格大于左右相邻值的元素。\n",
    "\n",
    "给你一个整数数组 nums，找到峰值元素并返回其索引。数组可能包含多个峰值，在这种情况下，返回 任何一个峰值 所在位置即可。\n",
    "\n",
    "你可以假设 nums[-1] = nums[n] = -∞ 。\n",
    "\n",
    "你必须实现时间复杂度为 O(log n) 的算法来解决此问题。\n",
    "\n",
    "来源：力扣（LeetCode）\n",
    "链接：https://leetcode-cn.com/problems/find-peak-element\n",
    "著作权归领扣网络所有。商业转载请联系官方授权，非商业转载请注明出处。"
   ]
  },
  {
   "cell_type": "code",
   "execution_count": 2,
   "id": "67bf9dc2",
   "metadata": {},
   "outputs": [],
   "source": [
    "from typing import List\n",
    "\n",
    "class Solution:\n",
    "    def findPeakElement(self, nums: List[int]) -> int:\n",
    "        n = len(nums)\n",
    "        left, right = 0, n - 1\n",
    "        while left <= right:\n",
    "            middle = (left + right) // 2\n",
    "            if middle != n - 1 and nums[middle] < nums[middle + 1]:\n",
    "                left = middle + 1\n",
    "            elif middle != 0 and nums[middle] < nums[middle - 1]:\n",
    "                right = middle - 1\n",
    "            else:\n",
    "                return middle"
   ]
  },
  {
   "cell_type": "markdown",
   "id": "6b522448",
   "metadata": {},
   "source": [
    "分析：本题的基础是数学的极值定理。只需要判断该点的导数情况，就可以判断哪边一定有极值。"
   ]
  }
 ],
 "metadata": {
  "kernelspec": {
   "display_name": "Python 3 (ipykernel)",
   "language": "python",
   "name": "python3"
  },
  "language_info": {
   "codemirror_mode": {
    "name": "ipython",
    "version": 3
   },
   "file_extension": ".py",
   "mimetype": "text/x-python",
   "name": "python",
   "nbconvert_exporter": "python",
   "pygments_lexer": "ipython3",
   "version": "3.9.7"
  }
 },
 "nbformat": 4,
 "nbformat_minor": 5
}
