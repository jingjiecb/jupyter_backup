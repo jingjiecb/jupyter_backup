{
 "cells": [
  {
   "cell_type": "markdown",
   "id": "694c74d4",
   "metadata": {},
   "source": []
  },
  {
   "cell_type": "code",
   "execution_count": 2,
   "id": "54e67b8e",
   "metadata": {},
   "outputs": [],
   "source": [
    "from typing import List\n",
    "\n",
    "class Solution:\n",
    "    def search(self, nums: List[int], target: int) -> int:\n",
    "        n = len(nums)\n",
    "        left, right = 0, n - 1\n",
    "        while left <= right:\n",
    "            left_num = nums[left]\n",
    "            if left_num == target:\n",
    "                return left\n",
    "            right_num = nums[right]\n",
    "            if right_num == target:\n",
    "                return right\n",
    "\n",
    "            middle = (left + right) // 2\n",
    "            middle_num = nums[middle]\n",
    "            if middle_num == target:\n",
    "                return middle\n",
    "\n",
    "            if left_num < right_num:\n",
    "                if middle_num > target:\n",
    "                    right = middle - 1\n",
    "                else:\n",
    "                    left = middle + 1\n",
    "            else:\n",
    "                if middle_num > left_num:\n",
    "                    if target > middle_num or target < right_num:\n",
    "                        left = middle + 1\n",
    "                    else:\n",
    "                        right = middle - 1\n",
    "                else:\n",
    "                    if target < middle_num or target > left_num:\n",
    "                        right = middle - 1\n",
    "                    else:\n",
    "                        left = middle + 1\n",
    "\n",
    "        return -1"
   ]
  },
  {
   "cell_type": "markdown",
   "id": "25175532",
   "metadata": {},
   "source": [
    "分析：依旧采用二分法的做法，只不过情况会稍微复杂一点。耐心分析每一种情况下应该如果选择下一个搜索范围（左半边还是右半边）即可。我的写法还稍微复杂一点，可以更加简化。但是思路"
   ]
  }
 ],
 "metadata": {
  "kernelspec": {
   "display_name": "Python 3 (ipykernel)",
   "language": "python",
   "name": "python3"
  },
  "language_info": {
   "codemirror_mode": {
    "name": "ipython",
    "version": 3
   },
   "file_extension": ".py",
   "mimetype": "text/x-python",
   "name": "python",
   "nbconvert_exporter": "python",
   "pygments_lexer": "ipython3",
   "version": "3.9.7"
  }
 },
 "nbformat": 4,
 "nbformat_minor": 5
}
