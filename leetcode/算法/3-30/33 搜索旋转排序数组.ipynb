{
 "cells": [
  {
   "cell_type": "markdown",
   "id": "c3f44f9c",
   "metadata": {},
   "source": []
  },
  {
   "cell_type": "code",
   "execution_count": 2,
   "id": "1f927b3a",
   "metadata": {},
   "outputs": [],
   "source": [
    "from typing import List\n",
    "\n",
    "class Solution:\n",
    "    def search(self, nums: List[int], target: int) -> int:\n",
    "        n = len(nums)\n",
    "        left, right = 0, n - 1\n",
    "        while left <= right:\n",
    "            left_num = nums[left]\n",
    "            if left_num == target:\n",
    "                return left\n",
    "            right_num = nums[right]\n",
    "            if right_num == target:\n",
    "                return right\n",
    "\n",
    "            middle = (left + right) // 2\n",
    "            middle_num = nums[middle]\n",
    "            if middle_num == target:\n",
    "                return middle\n",
    "\n",
    "            if left_num < right_num:\n",
    "                if middle_num > target:\n",
    "                    right = middle - 1\n",
    "                else:\n",
    "                    left = middle + 1\n",
    "            else:\n",
    "                if middle_num > left_num:\n",
    "                    if target > middle_num or target < right_num:\n",
    "                        left = middle + 1\n",
    "                    else:\n",
    "                        right = middle - 1\n",
    "                else:\n",
    "                    if target < middle_num or target > left_num:\n",
    "                        right = middle - 1\n",
    "                    else:\n",
    "                        left = middle + 1\n",
    "\n",
    "        return -1"
   ]
  },
  {
   "cell_type": "code",
   "execution_count": null,
   "id": "4f019729",
   "metadata": {},
   "outputs": [],
   "source": [
    "class Solution2:\n",
    "    def search(self, nums: List[int], target: int) -> int:\n",
    "        n = len(nums)\n",
    "        left, right = 0, n - 1\n",
    "        while left <= right:\n",
    "            middle = (left + right) // 2\n",
    "            if nums[0] <= nums[middle]:\n",
    "                pass\n",
    "            else:\n",
    "                pass"
   ]
  }
 ],
 "metadata": {
  "kernelspec": {
   "display_name": "Python 3 (ipykernel)",
   "language": "python",
   "name": "python3"
  },
  "language_info": {
   "codemirror_mode": {
    "name": "ipython",
    "version": 3
   },
   "file_extension": ".py",
   "mimetype": "text/x-python",
   "name": "python",
   "nbconvert_exporter": "python",
   "pygments_lexer": "ipython3",
   "version": "3.9.7"
  }
 },
 "nbformat": 4,
 "nbformat_minor": 5
}
