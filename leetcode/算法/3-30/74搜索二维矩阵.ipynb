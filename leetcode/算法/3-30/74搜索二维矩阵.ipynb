{
 "cells": [
  {
   "cell_type": "markdown",
   "id": "93bb6d60",
   "metadata": {},
   "source": [
    "编写一个高效的算法来判断 m x n 矩阵中，是否存在一个目标值。该矩阵具有如下特性：\n",
    "\n",
    "每行中的整数从左到右按升序排列。\n",
    "每行的第一个整数大于前一行的最后一个整数。\n",
    "\n",
    "来源：力扣（LeetCode）\n",
    "链接：https://leetcode-cn.com/problems/search-a-2d-matrix\n",
    "著作权归领扣网络所有。商业转载请联系官方授权，非商业转载请注明出处。"
   ]
  },
  {
   "cell_type": "code",
   "execution_count": 2,
   "id": "57010038",
   "metadata": {},
   "outputs": [],
   "source": [
    "from typing import List\n",
    "\n",
    "class Solution:\n",
    "    def searchMatrix(self, matrix: List[List[int]], target: int) -> bool:\n",
    "        m, n = len(matrix), len(matrix[0])\n",
    "        if m == 0 or n == 0:\n",
    "            return False\n",
    "        left, right = 0, m - 1\n",
    "\n",
    "        col = -1\n",
    "        while left <= right:\n",
    "            middle = (left + right) // 2\n",
    "            if middle == m - 1 or (matrix[middle][0] <= target and matrix[middle + 1][0] > target):\n",
    "                col = middle\n",
    "                break\n",
    "            elif matrix[middle][0] > target:\n",
    "                right = middle - 1\n",
    "            else:\n",
    "                left = middle + 1\n",
    "        \n",
    "        if col == -1:\n",
    "            return False\n",
    "        \n",
    "        left, right = 0, n - 1\n",
    "        while left <= right:\n",
    "            middle = (left + right) // 2\n",
    "            if matrix[col][middle] == target:\n",
    "                return True\n",
    "            elif matrix[col][middle] < target:\n",
    "                left = middle + 1\n",
    "            else:\n",
    "                right = middle - 1\n",
    "        \n",
    "        return False\n",
    "        \n",
    "                "
   ]
  },
  {
   "cell_type": "markdown",
   "id": "dee828a1",
   "metadata": {},
   "source": [
    "分析：可以先找到目标值在哪一行，再在这一行里去寻找。"
   ]
  }
 ],
 "metadata": {
  "kernelspec": {
   "display_name": "Python 3 (ipykernel)",
   "language": "python",
   "name": "python3"
  },
  "language_info": {
   "codemirror_mode": {
    "name": "ipython",
    "version": 3
   },
   "file_extension": ".py",
   "mimetype": "text/x-python",
   "name": "python",
   "nbconvert_exporter": "python",
   "pygments_lexer": "ipython3",
   "version": "3.9.7"
  }
 },
 "nbformat": 4,
 "nbformat_minor": 5
}
