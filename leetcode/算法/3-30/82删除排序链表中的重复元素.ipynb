{
 "cells": [
  {
   "cell_type": "markdown",
   "id": "14654a16",
   "metadata": {},
   "source": [
    "给定一个已排序的链表的头 head ， 删除原始链表中所有重复数字的节点，只留下不同的数字 。返回 已排序的链表 。"
   ]
  },
  {
   "cell_type": "code",
   "execution_count": 3,
   "id": "549903a7",
   "metadata": {},
   "outputs": [],
   "source": [
    "# Definition for singly-linked list.\n",
    "class ListNode:\n",
    "    def __init__(self, val=0, next=None):\n",
    "        self.val = val\n",
    "        self.next = next\n",
    "        \n",
    "class Solution:\n",
    "    def deleteDuplicates(self, head: ListNode) -> ListNode:\n",
    "        head_mook = ListNode(val = -101, next = head)\n",
    "        left, right = head_mook, head\n",
    "        while True:\n",
    "            count = 0\n",
    "            while right and right.val == left.next.val:\n",
    "                count += 1\n",
    "                right = right.next\n",
    "            \n",
    "            if count > 1:\n",
    "                left.next = right\n",
    "            else:\n",
    "                left = left.next\n",
    "            \n",
    "            if not right:\n",
    "                break\n",
    "\n",
    "        return head_mook.next\n"
   ]
  },
  {
   "cell_type": "markdown",
   "id": "55fe5bcd",
   "metadata": {},
   "source": [
    "分析：使用双指针，每次采用一个count计数，如果计数"
   ]
  }
 ],
 "metadata": {
  "kernelspec": {
   "display_name": "Python 3 (ipykernel)",
   "language": "python",
   "name": "python3"
  },
  "language_info": {
   "codemirror_mode": {
    "name": "ipython",
    "version": 3
   },
   "file_extension": ".py",
   "mimetype": "text/x-python",
   "name": "python",
   "nbconvert_exporter": "python",
   "pygments_lexer": "ipython3",
   "version": "3.9.7"
  }
 },
 "nbformat": 4,
 "nbformat_minor": 5
}
