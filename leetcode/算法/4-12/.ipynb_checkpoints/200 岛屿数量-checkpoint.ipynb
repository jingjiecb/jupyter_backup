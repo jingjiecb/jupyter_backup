{
 "cells": [
  {
   "cell_type": "markdown",
   "id": "eda89f8f",
   "metadata": {},
   "source": [
    "给你一个由 '1'（陆地）和 '0'（水）组成的的二维网格，请你计算网格中岛屿的数量。\n",
    "\n",
    "岛屿总是被水包围，并且每座岛屿只能由水平方向和/或竖直方向上相邻的陆地连接形成。\n",
    "\n",
    "此外，你可以假设该网格的四条边均被水包围。\n",
    "\n",
    "来源：力扣（LeetCode）\n",
    "链接：https://leetcode-cn.com/problems/number-of-islands\n",
    "著作权归领扣网络所有。商业转载请联系官方授权，非商业转载请注明出处。"
   ]
  },
  {
   "cell_type": "code",
   "execution_count": 2,
   "id": "40584941",
   "metadata": {},
   "outputs": [],
   "source": [
    "from typing import List\n",
    "\n",
    "class Solution:\n",
    "    def numIslands(self, grid: List[List[str]]) -> int:\n",
    "        m, n = len(grid), len(grid[0])\n",
    "        result = 0\n",
    "        went = [[False] * n for _ in range(m)]\n",
    "\n",
    "        def explore(i, j):\n",
    "            if grid[i][j] == 0:\n",
    "                return\n",
    "            q = []\n",
    "            went[i][j] = True\n",
    "            q += [(i, j)]\n",
    "            while q:\n",
    "                p0 = q.pop(0)\n",
    "                for p in [(p0[0] + 1, p0[1]), (p0[0] - 1, p0[1]), (p0[0], p0[1] + 1), (p0[0], p0[1] - 1)]:\n",
    "                    if 0 <= p[0] < m and 0 <= p[1] < n and grid[p[0]][p[1]] == '1' and not went[p[0]][p[1]]:\n",
    "                        went[p[0]][p[1]] = True\n",
    "                        q += [p]\n",
    "\n",
    "        for i in range(m):\n",
    "            for j in range(n):\n",
    "                if grid[i][j] == '1' and not went[i][j]:\n",
    "                    explore(i, j)\n",
    "                    result += 1\n",
    "\n",
    "        return result"
   ]
  },
  {
   "cell_type": "markdown",
   "id": "2e62d1b6",
   "metadata": {},
   "source": [
    "分析：本题可以通过深度或者广度优先遍历解决。\n",
    "\n",
    "但是官方题解中还有一种曾经我比较拿手的做法，这次没想起来，那就是并查集。\n",
    "\n",
    "通过将所有是1的格子向上下左右尝试合并，最后统计并查集中剩余连通分量的数量即可。"
   ]
  },
  {
   "cell_type": "code",
   "execution_count": null,
   "id": "d2c9f431",
   "metadata": {},
   "outputs": [],
   "source": []
  }
 ],
 "metadata": {
  "kernelspec": {
   "display_name": "Python 3 (ipykernel)",
   "language": "python",
   "name": "python3"
  },
  "language_info": {
   "codemirror_mode": {
    "name": "ipython",
    "version": 3
   },
   "file_extension": ".py",
   "mimetype": "text/x-python",
   "name": "python",
   "nbconvert_exporter": "python",
   "pygments_lexer": "ipython3",
   "version": "3.9.7"
  }
 },
 "nbformat": 4,
 "nbformat_minor": 5
}
