{
 "cells": [
  {
   "cell_type": "markdown",
   "id": "5aa3455a",
   "metadata": {},
   "source": [
    "给定一个含有 n 个正整数的数组和一个正整数 target 。\n",
    "\n",
    "找出该数组中满足其和 ≥ target 的长度最小的 连续子数组 [numsl, numsl+1, ..., numsr-1, numsr] ，并返回其长度。如果不存在符合条件的子数组，返回 0 。\n",
    "\n",
    " \n",
    "\n",
    "来源：力扣（LeetCode）\n",
    "链接：https://leetcode-cn.com/problems/minimum-size-subarray-sum\n",
    "著作权归领扣网络所有。商业转载请联系官方授权，非商业转载请注明出处。"
   ]
  },
  {
   "cell_type": "code",
   "execution_count": 2,
   "id": "31d8f68a",
   "metadata": {},
   "outputs": [],
   "source": [
    "from typing import List\n",
    "\n",
    "class Solution:\n",
    "    def minSubArrayLen(self, target: int, nums: List[int]) -> int:\n",
    "        if not nums:\n",
    "            return 0\n",
    "        n = len(nums)\n",
    "        left, right = 0, 0\n",
    "        cur_sum = 0\n",
    "        result = float('inf')\n",
    "        \n",
    "        while right <= n:\n",
    "            if cur_sum >= target:\n",
    "                result = min(result, right - left)\n",
    "                cur_sum -= nums[left]\n",
    "                left += 1\n",
    "                if left > right:\n",
    "                    right += 1\n",
    "            if cur_sum < target:\n",
    "                right += 1\n",
    "                if right <= n:\n",
    "                    cur_sum += nums[right - 1]\n",
    "        return result if result != float('inf') else 0"
   ]
  },
  {
   "cell_type": "markdown",
   "id": "973e94e0",
   "metadata": {},
   "source": [
    "分析：这个题和上一个子数组之积的题非常类似，同样使用滑动窗口法即可解决。\n",
    "\n",
    "注意左指针要推着右指针走。"
   ]
  },
  {
   "cell_type": "code",
   "execution_count": null,
   "id": "bee808b2",
   "metadata": {},
   "outputs": [],
   "source": []
  }
 ],
 "metadata": {
  "kernelspec": {
   "display_name": "Python 3 (ipykernel)",
   "language": "python",
   "name": "python3"
  },
  "language_info": {
   "codemirror_mode": {
    "name": "ipython",
    "version": 3
   },
   "file_extension": ".py",
   "mimetype": "text/x-python",
   "name": "python",
   "nbconvert_exporter": "python",
   "pygments_lexer": "ipython3",
   "version": "3.9.7"
  }
 },
 "nbformat": 4,
 "nbformat_minor": 5
}
