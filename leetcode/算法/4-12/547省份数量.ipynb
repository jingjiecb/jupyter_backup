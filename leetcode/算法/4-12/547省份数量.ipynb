{
 "cells": [
  {
   "cell_type": "markdown",
   "id": "eef36c69",
   "metadata": {},
   "source": [
    "有 n 个城市，其中一些彼此相连，另一些没有相连。如果城市 a 与城市 b 直接相连，且城市 b 与城市 c 直接相连，那么城市 a 与城市 c 间接相连。\n",
    "\n",
    "省份 是一组直接或间接相连的城市，组内不含其他没有相连的城市。\n",
    "\n",
    "给你一个 n x n 的矩阵 isConnected ，其中 isConnected[i][j] = 1 表示第 i 个城市和第 j 个城市直接相连，而 isConnected[i][j] = 0 表示二者不直接相连。\n",
    "\n",
    "返回矩阵中 省份 的数量。\n",
    "\n",
    " \n",
    "\n",
    "来源：力扣（LeetCode）\n",
    "链接：https://leetcode-cn.com/problems/number-of-provinces\n",
    "著作权归领扣网络所有。商业转载请联系官方授权，非商业转载请注明出处。"
   ]
  },
  {
   "cell_type": "code",
   "execution_count": 2,
   "id": "a2c00235",
   "metadata": {},
   "outputs": [],
   "source": [
    "from typing import List\n",
    "\n",
    "class Solution:\n",
    "    def findCircleNum(self, isConnected: List[List[int]]) -> int:\n",
    "        n = len(isConnected)\n",
    "        result = 0\n",
    "        went = [False] * n\n",
    "\n",
    "        def explore(i):\n",
    "            q = []\n",
    "            went[i] = True\n",
    "            q += [i]\n",
    "            while q:\n",
    "                p0 = q.pop(0)\n",
    "                ps = filter(lambda x:x[1] == 1, enumerate(isConnected[p0]))\n",
    "                for p in ps:\n",
    "                    if not went[p[0]]:\n",
    "                        went[p[0]] = True\n",
    "                        q += [p[0]]\n",
    "\n",
    "        for i in range(n):\n",
    "            if not went[i]:\n",
    "                result += 1\n",
    "                explore(i)\n",
    "\n",
    "        return result"
   ]
  },
  {
   "cell_type": "markdown",
   "id": "49fe960b",
   "metadata": {},
   "source": [
    "分析：本题也可以采用两种方法来做，即深度（广度）优先遍历和并查集。"
   ]
  },
  {
   "cell_type": "code",
   "execution_count": null,
   "id": "445ee0c5",
   "metadata": {},
   "outputs": [],
   "source": []
  }
 ],
 "metadata": {
  "kernelspec": {
   "display_name": "Python 3 (ipykernel)",
   "language": "python",
   "name": "python3"
  },
  "language_info": {
   "codemirror_mode": {
    "name": "ipython",
    "version": 3
   },
   "file_extension": ".py",
   "mimetype": "text/x-python",
   "name": "python",
   "nbconvert_exporter": "python",
   "pygments_lexer": "ipython3",
   "version": "3.9.7"
  }
 },
 "nbformat": 4,
 "nbformat_minor": 5
}
