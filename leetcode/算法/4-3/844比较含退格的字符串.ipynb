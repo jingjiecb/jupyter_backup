{
 "cells": [
  {
   "cell_type": "markdown",
   "id": "e8798b37",
   "metadata": {},
   "source": [
    "给定 s 和 t 两个字符串，当它们分别被输入到空白的文本编辑器后，如果两者相等，返回 true 。# 代表退格字符。\n",
    "\n",
    "注意：如果对空文本输入退格字符，文本继续为空。\n",
    "\n",
    "来源：力扣（LeetCode）\n",
    "链接：https://leetcode-cn.com/problems/backspace-string-compare\n",
    "著作权归领扣网络所有。商业转载请联系官方授权，非商业转载请注明出处。"
   ]
  },
  {
   "cell_type": "code",
   "execution_count": 1,
   "id": "7b8702b6",
   "metadata": {},
   "outputs": [],
   "source": [
    "class Solution:\n",
    "    def backspaceCompare(self, s: str, t: str) -> bool:\n",
    "        i1, i2 = len(s) - 1, len(t) - 1\n",
    "        skip_count1, skip_count2 = 0, 0\n",
    "        while i1 >= 0 or i2 >= 0:\n",
    "            while i1 >= 0:\n",
    "                if s[i1] == '#':\n",
    "                    skip_count1 += 1\n",
    "                    i1 -= 1\n",
    "                elif skip_count1 > 0:\n",
    "                    skip_count1 -= 1\n",
    "                    i1 -= 1\n",
    "                else:\n",
    "                    break\n",
    "            while i2 >= 0:\n",
    "                if t[i2] == '#':\n",
    "                    skip_count2 += 1\n",
    "                    i2 -= 1\n",
    "                elif skip_count2 > 0:\n",
    "                    skip_count2 -= 1\n",
    "                    i2 -= 1\n",
    "                else:\n",
    "                    break\n",
    "            if i1 >= 0 and i2 >= 0:\n",
    "                if s[i1] != t[i2]:\n",
    "                    return False\n",
    "            elif i1 >= 0 or i2 >= 0:\n",
    "                return False\n",
    "            i1 -= 1\n",
    "            i2 -= 1\n",
    "        return  True"
   ]
  },
  {
   "cell_type": "markdown",
   "id": "5c949a43",
   "metadata": {},
   "source": [
    "解析：这个题直接计算出两个字符串简化后的样子来比较比较直接，但是需要两趟扫描。\n",
    "\n",
    "也可以采用双指针的做法，一趟扫描快速完成。如果从后往前读字符串，碰到#的含义就可以理解为跳过下一个非#字符。于是就可以维护一个变量skip_count来记录要跳过的字符数，然后依次比较两个字符串无需跳过的字符即可。"
   ]
  },
  {
   "cell_type": "code",
   "execution_count": null,
   "id": "9d28917f",
   "metadata": {},
   "outputs": [],
   "source": []
  }
 ],
 "metadata": {
  "kernelspec": {
   "display_name": "Python 3 (ipykernel)",
   "language": "python",
   "name": "python3"
  },
  "language_info": {
   "codemirror_mode": {
    "name": "ipython",
    "version": 3
   },
   "file_extension": ".py",
   "mimetype": "text/x-python",
   "name": "python",
   "nbconvert_exporter": "python",
   "pygments_lexer": "ipython3",
   "version": "3.9.7"
  }
 },
 "nbformat": 4,
 "nbformat_minor": 5
}
