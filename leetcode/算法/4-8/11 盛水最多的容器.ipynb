{
 "cells": [
  {
   "cell_type": "markdown",
   "id": "ec551bbd",
   "metadata": {},
   "source": [
    "给定一个长度为 n 的整数数组 height 。有 n 条垂线，第 i 条线的两个端点是 (i, 0) 和 (i, height[i]) 。\n",
    "\n",
    "找出其中的两条线，使得它们与 x 轴共同构成的容器可以容纳最多的水。\n",
    "\n",
    "返回容器可以储存的最大水量。\n",
    "\n",
    "说明：你不能倾斜容器。\n",
    "\n",
    " \n",
    "\n",
    "来源：力扣（LeetCode）\n",
    "链接：https://leetcode-cn.com/problems/container-with-most-water\n",
    "著作权归领扣网络所有。商业转载请联系官方授权，非商业转载请注明出处。"
   ]
  },
  {
   "cell_type": "code",
   "execution_count": 2,
   "id": "d631bb43",
   "metadata": {},
   "outputs": [],
   "source": [
    "from typing import List\n",
    "\n",
    "class Solution:\n",
    "    def maxArea(self, height: List[int]) -> int:\n",
    "        n = len(height)\n",
    "        left, right = 0, n - 1\n",
    "        result = 0\n",
    "        while left < right:\n",
    "            left_height, right_height = height[left], height[right]\n",
    "            current_volume = (right - left) * min(left_height, right_height)\n",
    "            result = max(result, current_volume)\n",
    "            if left_height < right_height:\n",
    "                left += 1\n",
    "            else:\n",
    "                right -= 1\n",
    "        return result\n"
   ]
  },
  {
   "cell_type": "markdown",
   "id": "6d226cf5",
   "metadata": {},
   "source": [
    "分析：这个题可以使用双指针的方法。一开始把两个指针放在最外层的两侧。\n",
    "\n",
    "每次将短的一段指针向内移动一次。这样做可以保证形成的新容器总是不比另一侧移动的小。\n",
    "\n",
    "在"
   ]
  }
 ],
 "metadata": {
  "kernelspec": {
   "display_name": "Python 3 (ipykernel)",
   "language": "python",
   "name": "python3"
  },
  "language_info": {
   "codemirror_mode": {
    "name": "ipython",
    "version": 3
   },
   "file_extension": ".py",
   "mimetype": "text/x-python",
   "name": "python",
   "nbconvert_exporter": "python",
   "pygments_lexer": "ipython3",
   "version": "3.9.7"
  }
 },
 "nbformat": 4,
 "nbformat_minor": 5
}
