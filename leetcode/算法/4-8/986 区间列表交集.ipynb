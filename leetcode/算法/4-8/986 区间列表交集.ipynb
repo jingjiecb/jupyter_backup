{
 "cells": [
  {
   "cell_type": "markdown",
   "id": "db3c109b",
   "metadata": {},
   "source": [
    "给定两个由一些 闭区间 组成的列表，firstList 和 secondList ，其中 firstList[i] = [starti, endi] 而 secondList[j] = [startj, endj] 。每个区间列表都是成对 不相交 的，并且 已经排序 。\n",
    "\n",
    "返回这 两个区间列表的交集 。\n",
    "\n",
    "形式上，闭区间 [a, b]（其中 a <= b）表示实数 x 的集合，而 a <= x <= b 。\n",
    "\n",
    "两个闭区间的 交集 是一组实数，要么为空集，要么为闭区间。例如，[1, 3] 和 [2, 4] 的交集为 [2, 3] 。\n",
    "\n",
    "来源：力扣（LeetCode）\n",
    "链接：https://leetcode-cn.com/problems/interval-list-intersections\n",
    "著作权归领扣网络所有。商业转载请联系官方授权，非商业转载请注明出处。"
   ]
  },
  {
   "cell_type": "code",
   "execution_count": 2,
   "id": "2e0d6e7b",
   "metadata": {},
   "outputs": [],
   "source": [
    "from typing import List\n",
    "\n",
    "class Solution:\n",
    "    def intervalIntersection(self, firstList: List[List[int]], secondList: List[List[int]]) -> List[List[int]]:\n",
    "        m, n = len(firstList), len(secondList)\n",
    "        if not m or not n:\n",
    "            return []\n",
    "        first_p, second_p = 0, 0\n",
    "        result = []\n",
    "\n",
    "        while True:\n",
    "            if firstList[first_p][1] < secondList[second_p][1]:\n",
    "                end = firstList[first_p][1]\n",
    "                max_start = max(firstList[first_p][0], secondList[second_p][0])\n",
    "                if max_start <= end:\n",
    "                    result.append([max_start, end])\n",
    "                if first_p < m - 1:\n",
    "                    first_p += 1\n",
    "                else:\n",
    "                    break\n",
    "            else:\n",
    "                end = secondList[second_p][1]\n",
    "                max_start = max(firstList[first_p][0], secondList[second_p][0])\n",
    "                if max_start <= end:\n",
    "                    result.append([max_start, end])\n",
    "                if second_p < n - 1:\n",
    "                    second_p += 1\n",
    "                else:\n",
    "                    break\n",
    "\n",
    "        return result"
   ]
  },
  {
   "cell_type": "markdown",
   "id": "232afbfd",
   "metadata": {},
   "source": [
    "分析：这个题使用双指针解法即可。\n",
    "\n",
    "两个列表中各一个指针，指针指向区间的右界。每次移动较小的那个指针到下一个区间，然后把当前两个指针对应区间的交集进行计算。如果不为空就加入结果集中。"
   ]
  },
  {
   "cell_type": "code",
   "execution_count": null,
   "id": "6bb326f6",
   "metadata": {},
   "outputs": [],
   "source": []
  }
 ],
 "metadata": {
  "kernelspec": {
   "display_name": "Python 3 (ipykernel)",
   "language": "python",
   "name": "python3"
  },
  "language_info": {
   "codemirror_mode": {
    "name": "ipython",
    "version": 3
   },
   "file_extension": ".py",
   "mimetype": "text/x-python",
   "name": "python",
   "nbconvert_exporter": "python",
   "pygments_lexer": "ipython3",
   "version": "3.9.7"
  }
 },
 "nbformat": 4,
 "nbformat_minor": 5
}
