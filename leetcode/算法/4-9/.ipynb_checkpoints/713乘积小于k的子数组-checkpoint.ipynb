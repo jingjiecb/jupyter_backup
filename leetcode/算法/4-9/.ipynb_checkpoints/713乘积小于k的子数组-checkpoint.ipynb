{
 "cells": [
  {
   "cell_type": "markdown",
   "id": "d85ac5ca",
   "metadata": {},
   "source": [
    "给定一个正整数数组 nums和整数 k 。\n",
    "\n",
    "请找出该数组内乘积小于 k 的连续的子数组的个数。"
   ]
  },
  {
   "cell_type": "code",
   "execution_count": 2,
   "id": "4d1c2e7d",
   "metadata": {},
   "outputs": [],
   "source": [
    "from typing import List\n",
    "\n",
    "class Solution:\n",
    "    def numSubarrayProductLessThanK(self, nums: List[int], k: int) -> int:\n",
    "        left, right = 0, 0\n",
    "        result = 0\n",
    "        production = 1\n",
    "        n = len(nums)\n",
    "        while left < n and right <= n:\n",
    "            if production < k:\n",
    "                result += (right - left)\n",
    "                right += 1\n",
    "                if right <= n:\n",
    "                    production *= nums[right - 1]\n",
    "            else:\n",
    "                production /= nums[left]\n",
    "                left += 1\n",
    "                right = max(left, right)\n",
    "        return result"
   ]
  },
  {
   "cell_type": "markdown",
   "id": "20b992d8",
   "metadata": {},
   "source": [
    "分析：此题可以采用滑动窗口的做法。\n",
    "\n",
    "因为要找的是子数组的**个数**，因此可以使用一个小技巧：如果在[left, right]的区间数组中所有数的乘积小于k，那么任何子数组乘积都小于k；另外，包含nums[right]的满足条件的子数组则有right - left个。因此，可以采用双指针，每次右侧指针移动到一个位置之后，如果窗口内的乘积小于k，则结果加(right - left)即可。而判断窗口内的数字之积是否满足小于k，可以根据进入窗口和离开窗口的数字，就知道窗口内的数字乘积，简单快速，因此滑动窗口非常适合这道题。\n",
    "\n",
    "如果窗口内的数字之积小于k，那么将结果加上right - left,然后将右侧指针向右移动；如果大于k，将左侧指针向右移动。注意左侧指针一定要比右侧指针小，左侧指针的移动应该推动右侧指针向右移动。"
   ]
  },
  {
   "cell_type": "code",
   "execution_count": null,
   "id": "156545f5",
   "metadata": {},
   "outputs": [],
   "source": []
  }
 ],
 "metadata": {
  "kernelspec": {
   "display_name": "Python 3 (ipykernel)",
   "language": "python",
   "name": "python3"
  },
  "language_info": {
   "codemirror_mode": {
    "name": "ipython",
    "version": 3
   },
   "file_extension": ".py",
   "mimetype": "text/x-python",
   "name": "python",
   "nbconvert_exporter": "python",
   "pygments_lexer": "ipython3",
   "version": "3.9.7"
  }
 },
 "nbformat": 4,
 "nbformat_minor": 5
}
