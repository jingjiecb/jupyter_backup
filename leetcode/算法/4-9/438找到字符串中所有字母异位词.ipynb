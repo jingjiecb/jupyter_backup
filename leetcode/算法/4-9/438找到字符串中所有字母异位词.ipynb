{
 "cells": [
  {
   "cell_type": "markdown",
   "id": "9090ba8e",
   "metadata": {},
   "source": [
    "给定两个字符串 s 和 p，找到 s 中所有 p 的 异位词 的子串，返回这些子串的起始索引。不考虑答案输出的顺序。\n",
    "\n",
    "异位词 指由相同字母重排列形成的字符串（包括相同的字符串）。\n",
    "\n",
    "字符串中只有小写字母。\n",
    "\n",
    "来源：力扣（LeetCode）\n",
    "链接：https://leetcode-cn.com/problems/find-all-anagrams-in-a-string\n",
    "著作权归领扣网络所有。商业转载请联系官方授权，非商业转载请注明出处。"
   ]
  },
  {
   "cell_type": "code",
   "execution_count": 2,
   "id": "edc0e0a6",
   "metadata": {},
   "outputs": [],
   "source": [
    "from typing import List\n",
    "\n",
    "class Solution:\n",
    "    def findAnagrams(self, s: str, p: str) -> List[int]:\n",
    "        result = []\n",
    "        n, l = len(s), len(p)\n",
    "        if n < l:\n",
    "             return result\n",
    "        left, right = 0, l - 1\n",
    "\n",
    "        s_count, p_count = [0] * 26, [0] * 26\n",
    "        for i in range(l):\n",
    "            s_count[ord(s[i])-0x61] += 1\n",
    "            p_count[ord(p[i])-0x61] += 1\n",
    "\n",
    "\n",
    "        while right < n:\n",
    "            if s_count == p_count:\n",
    "                result.append(left)\n",
    "            s_count[ord(s[left])-0x61] -= 1\n",
    "            left += 1\n",
    "            right += 1\n",
    "            if right < n:\n",
    "                s_count[ord(s[right])-0x61] += 1\n",
    "\n",
    "        return result"
   ]
  },
  {
   "cell_type": "markdown",
   "id": "8675b455",
   "metadata": {},
   "source": [
    "分析：本题采用滑动窗口的方法。滑动窗口的算法精髓就在于，只通过统计进入和流出的字符，就可以掌握窗口内内容的面貌。\n",
    "\n",
    "这里采用的一个小技巧就是，用数组去统计窗口内的字符出现次数，方便和原始字符串中各个字幕出现次数进行比较。"
   ]
  },
  {
   "cell_type": "code",
   "execution_count": null,
   "id": "88706de3",
   "metadata": {},
   "outputs": [],
   "source": []
  }
 ],
 "metadata": {
  "kernelspec": {
   "display_name": "Python 3 (ipykernel)",
   "language": "python",
   "name": "python3"
  },
  "language_info": {
   "codemirror_mode": {
    "name": "ipython",
    "version": 3
   },
   "file_extension": ".py",
   "mimetype": "text/x-python",
   "name": "python",
   "nbconvert_exporter": "python",
   "pygments_lexer": "ipython3",
   "version": "3.9.7"
  }
 },
 "nbformat": 4,
 "nbformat_minor": 5
}
