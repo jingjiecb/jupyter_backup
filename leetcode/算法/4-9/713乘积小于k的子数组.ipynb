{
 "cells": [
  {
   "cell_type": "markdown",
   "id": "2b65bdfa",
   "metadata": {},
   "source": [
    "给定一个正整数数组 nums和整数 k 。\n",
    "\n",
    "请找出该数组内乘积小于 k 的连续的子数组的个数。"
   ]
  },
  {
   "cell_type": "code",
   "execution_count": 2,
   "id": "699d72e3",
   "metadata": {},
   "outputs": [],
   "source": [
    "from typing import List\n",
    "\n",
    "class Solution:\n",
    "    def numSubarrayProductLessThanK(self, nums: List[int], k: int) -> int:\n",
    "        left, right = 0, 0\n",
    "        result = 0\n",
    "        production = 1\n",
    "        n = len(nums)\n",
    "        while left < n and right <= n:\n",
    "            if production < k:\n",
    "                result += (right - left)\n",
    "                right += 1\n",
    "                if right <= n:\n",
    "                    production *= nums[right - 1]\n",
    "            else:\n",
    "                production /= nums[left]\n",
    "                left += 1\n",
    "                right = max(left, right)\n",
    "        return result"
   ]
  },
  {
   "cell_type": "code",
   "execution_count": null,
   "id": "7a0b3570",
   "metadata": {},
   "outputs": [],
   "source": [
    "分析：此题可以采用双指针的做法。\n",
    "\n",
    "因为要找的是子数组的**个数**，因此可以使用一个小技巧：如果在[left, right]的区间"
   ]
  }
 ],
 "metadata": {
  "kernelspec": {
   "display_name": "Python 3 (ipykernel)",
   "language": "python",
   "name": "python3"
  },
  "language_info": {
   "codemirror_mode": {
    "name": "ipython",
    "version": 3
   },
   "file_extension": ".py",
   "mimetype": "text/x-python",
   "name": "python",
   "nbconvert_exporter": "python",
   "pygments_lexer": "ipython3",
   "version": "3.9.7"
  }
 },
 "nbformat": 4,
 "nbformat_minor": 5
}
